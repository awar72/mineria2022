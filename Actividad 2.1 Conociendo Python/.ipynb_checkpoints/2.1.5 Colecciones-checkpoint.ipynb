{
 "cells": [
  {
   "cell_type": "markdown",
   "metadata": {},
   "source": [
    "# Colecciones en Python\n",
    "\n",
    "Distinguir entre el uso de listas, tuplas, diccionarios "
   ]
  },
  {
   "cell_type": "markdown",
   "metadata": {},
   "source": [
    "## Listas\n",
    "Se distinguen por []"
   ]
  },
  {
   "cell_type": "code",
   "execution_count": null,
   "metadata": {},
   "outputs": [],
   "source": [
    "lst_x = ['Pedro', 'Miguelina', 'Fernando', 'Josefina']\n",
    "lst_x"
   ]
  },
  {
   "cell_type": "code",
   "execution_count": null,
   "metadata": {},
   "outputs": [],
   "source": [
    "lst_y = [25,45,29,15,30,6]\n",
    "lst_y"
   ]
  },
  {
   "cell_type": "code",
   "execution_count": null,
   "metadata": {},
   "outputs": [],
   "source": [
    "lst_z = ['Pedro', 25, 'Miguelina', 56, 'Fernando', 45, 'Josefina', 49.3, False]\n",
    "lst_z"
   ]
  },
  {
   "cell_type": "code",
   "execution_count": null,
   "metadata": {},
   "outputs": [],
   "source": [
    "lst_x[0:2]"
   ]
  },
  {
   "cell_type": "code",
   "execution_count": null,
   "metadata": {},
   "outputs": [],
   "source": [
    "lst_y[2:5]"
   ]
  },
  {
   "cell_type": "code",
   "execution_count": null,
   "metadata": {},
   "outputs": [],
   "source": [
    "lst_z[3:890]"
   ]
  },
  {
   "cell_type": "code",
   "execution_count": null,
   "metadata": {},
   "outputs": [],
   "source": [
    "lst_y = ['a','e','i','o','u',1,2,3,4,5]\n",
    "print(\"1:\", lst_y[:2])\n",
    "print(\"2:\", lst_y[-3])\n",
    "print(\"3:\", lst_y[-3:])\n",
    "print(\"3:\", lst_y[3:5])"
   ]
  },
  {
   "cell_type": "code",
   "execution_count": null,
   "metadata": {},
   "outputs": [],
   "source": [
    "# Agregar elementos a la lista\n",
    "lst_z = lst_z + [89]\n",
    "lst_z"
   ]
  },
  {
   "cell_type": "code",
   "execution_count": null,
   "metadata": {},
   "outputs": [],
   "source": [
    "lst_z.append(60)\n",
    "lst_z"
   ]
  },
  {
   "cell_type": "code",
   "execution_count": null,
   "metadata": {},
   "outputs": [],
   "source": [
    "lst_z.insert(2,'Nuevo')\n",
    "lst_z"
   ]
  },
  {
   "cell_type": "code",
   "execution_count": null,
   "metadata": {},
   "outputs": [],
   "source": [
    "lst_w = [2,15,3]\n",
    "print(\"Inicial : \", lst_w)\n",
    "lst_w = lst_w * 2\n",
    "print(\"Final   : \", lst_w)"
   ]
  },
  {
   "cell_type": "code",
   "execution_count": null,
   "metadata": {},
   "outputs": [],
   "source": [
    "print(len(lst_w))"
   ]
  },
  {
   "cell_type": "code",
   "execution_count": null,
   "metadata": {},
   "outputs": [],
   "source": [
    "# Eliminación de elementos\n",
    "del(lst_w[len(lst_w)-2:])\n",
    "lst_w"
   ]
  },
  {
   "cell_type": "code",
   "execution_count": null,
   "metadata": {},
   "outputs": [],
   "source": [
    "# Referencias\n",
    "x = [\"a\", \"b\", \"c\"]\n",
    "y = x\n",
    "print(\"x inicial = \", x)\n",
    "print(\"y inicial = \", y)\n",
    "x[2] = 'd'\n",
    "print(\"x final = \", x)\n",
    "print(\"y final = \", y)"
   ]
  },
  {
   "cell_type": "code",
   "execution_count": null,
   "metadata": {},
   "outputs": [],
   "source": [
    "# Ahora se realizan cambios en y\n",
    "print(\"x inicial = \", x)\n",
    "print(\"y inicial = \", y)\n",
    "y[1] = 'e'\n",
    "print(\"x final = \", x)\n",
    "print(\"y final = \", y)"
   ]
  },
  {
   "cell_type": "code",
   "execution_count": null,
   "metadata": {},
   "outputs": [],
   "source": [
    "x = [\"a\", \"b\", \"c\"]\n",
    "y = list(x)\n",
    "print(\"x inicial = \", x)\n",
    "print(\"y inicial = \", y)\n",
    "y[1] = \"f\"\n",
    "print(\"x final = \", x)\n",
    "print(\"y final = \", y)"
   ]
  },
  {
   "cell_type": "markdown",
   "metadata": {},
   "source": [
    "## Tuplas\n",
    "Se distinguen por () y son listas inmutables"
   ]
  },
  {
   "cell_type": "code",
   "execution_count": null,
   "metadata": {},
   "outputs": [],
   "source": [
    "tx = (10, 15, 3)\n",
    "tx"
   ]
  },
  {
   "cell_type": "code",
   "execution_count": null,
   "metadata": {},
   "outputs": [],
   "source": [
    "ty = (\"aire\", 90, 'a', True)\n",
    "ty"
   ]
  },
  {
   "cell_type": "code",
   "execution_count": null,
   "metadata": {},
   "outputs": [],
   "source": [
    "tz = 29,\n",
    "len(tz)"
   ]
  },
  {
   "cell_type": "code",
   "execution_count": null,
   "metadata": {},
   "outputs": [],
   "source": [
    "ta = ('a', 'e', 'i')\n",
    "tb = (15,9,3)\n",
    "ta + tb"
   ]
  },
  {
   "cell_type": "code",
   "execution_count": null,
   "metadata": {},
   "outputs": [],
   "source": [
    "ta*3"
   ]
  },
  {
   "cell_type": "code",
   "execution_count": null,
   "metadata": {},
   "outputs": [],
   "source": [
    "tx = (15,12,4)\n",
    "ty = (15,15,8)\n",
    "tx < ty"
   ]
  },
  {
   "cell_type": "code",
   "execution_count": null,
   "metadata": {},
   "outputs": [],
   "source": []
  },
  {
   "cell_type": "markdown",
   "metadata": {},
   "source": [
    "## Conjuntos\n",
    "Se denotan por {}"
   ]
  },
  {
   "cell_type": "code",
   "execution_count": null,
   "metadata": {},
   "outputs": [],
   "source": [
    "cx = {True, 'a', \"aire\", 29, 29 < 10, 20 % 2 == 0 }\n",
    "cx"
   ]
  },
  {
   "cell_type": "code",
   "execution_count": null,
   "metadata": {},
   "outputs": [],
   "source": [
    "print(\"1: \", type(cx))\n",
    "print(\"2: \", 29 in cx)\n",
    "print(\"3: \", 29 not in cx)"
   ]
  },
  {
   "cell_type": "code",
   "execution_count": null,
   "metadata": {},
   "outputs": [],
   "source": [
    "cx.add(25)\n",
    "cx"
   ]
  },
  {
   "cell_type": "code",
   "execution_count": null,
   "metadata": {},
   "outputs": [],
   "source": [
    "cx.update([15,73,'b','a'])\n",
    "cx"
   ]
  },
  {
   "cell_type": "code",
   "execution_count": null,
   "metadata": {},
   "outputs": [],
   "source": [
    "cx = {'a', \"aire\", \"cocina\", 26, 29, 1}\n",
    "print(\"cx antes : \", cx)\n",
    "cx.remove('a')\n",
    "print(\"cx despues : \", cx)"
   ]
  },
  {
   "cell_type": "code",
   "execution_count": null,
   "metadata": {},
   "outputs": [],
   "source": [
    "# Respecto del método remove() la consideración que se debe tener es que si el elemento no existe marca error\n",
    "cx = {'a', \"aire\", \"cocina\", 26, 29, 1}\n",
    "print(\"cx antes : \", cx)\n",
    "cx.discard('b')\n",
    "print(\"cx despues : \", cx)"
   ]
  },
  {
   "cell_type": "markdown",
   "metadata": {},
   "source": [
    "## Diccionarios\n",
    "Definen una relación de uno a uno entre <clave, valor>"
   ]
  },
  {
   "cell_type": "code",
   "execution_count": null,
   "metadata": {},
   "outputs": [],
   "source": [
    "peliculas = {'Dr. Strange': 7, 'Capitan América: civil war': 6, \n",
    "             'Avengers: la era de ultron': 8, 'Avengers: end game': 10, 'Pantera negra': 9}\n",
    "for nombre, nota in peliculas.items():\n",
    "    print(nombre, \"tiene nota\", nota)"
   ]
  },
  {
   "cell_type": "code",
   "execution_count": null,
   "metadata": {},
   "outputs": [],
   "source": [
    "for nombre in peliculas:\n",
    "    print(nombre, 'tiene nota', peliculas[nombre])\n"
   ]
  },
  {
   "cell_type": "code",
   "execution_count": null,
   "metadata": {},
   "outputs": [],
   "source": [
    "# Agrega un elemento al diccionario\n",
    "peliculas['Capitan América, soldado de invierno'] = 9\n",
    "peliculas"
   ]
  },
  {
   "cell_type": "code",
   "execution_count": null,
   "metadata": {},
   "outputs": [],
   "source": [
    "\"Dr. Strange\" in peliculas"
   ]
  },
  {
   "cell_type": "code",
   "execution_count": null,
   "metadata": {},
   "outputs": [],
   "source": [
    "precios = dict(P15=50000, P73=76000, P3=4000)\n",
    "precios"
   ]
  },
  {
   "cell_type": "code",
   "execution_count": null,
   "metadata": {},
   "outputs": [],
   "source": [
    "precios.clear()\n",
    "precios"
   ]
  },
  {
   "cell_type": "code",
   "execution_count": null,
   "metadata": {},
   "outputs": [],
   "source": [
    "print(\"1:\", peliculas.get(\"Pantera negra\"))\n",
    "print(\"2:\", peliculas.keys())\n",
    "print(\"3:\", peliculas.values())"
   ]
  },
  {
   "cell_type": "code",
   "execution_count": null,
   "metadata": {},
   "outputs": [],
   "source": [
    "estudiantes = ('HONORATO','WANDA','BEYONCE','LAURA')\n",
    "d_estudiantes = dict.fromkeys(estudiantes)\n",
    "d_estudiantes"
   ]
  },
  {
   "cell_type": "code",
   "execution_count": null,
   "metadata": {},
   "outputs": [],
   "source": [
    "estudiantes = ('HONORATO','WANDA','BEYONCE','LAURA')\n",
    "d_estudiantes = dict.fromkeys(estudiantes, 5)\n",
    "d_estudiantes"
   ]
  },
  {
   "cell_type": "code",
   "execution_count": null,
   "metadata": {},
   "outputs": [],
   "source": [
    "print(d_estudiantes.items())"
   ]
  }
 ],
 "metadata": {
  "kernelspec": {
   "display_name": "Python 3",
   "language": "python",
   "name": "python3"
  },
  "language_info": {
   "codemirror_mode": {
    "name": "ipython",
    "version": 3
   },
   "file_extension": ".py",
   "mimetype": "text/x-python",
   "name": "python",
   "nbconvert_exporter": "python",
   "pygments_lexer": "ipython3",
   "version": "3.8.8"
  }
 },
 "nbformat": 4,
 "nbformat_minor": 2
}
