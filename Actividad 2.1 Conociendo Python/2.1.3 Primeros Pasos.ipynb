{
 "cells": [
  {
   "cell_type": "markdown",
   "metadata": {},
   "source": [
    "# Partiendo con Python"
   ]
  },
  {
   "cell_type": "markdown",
   "metadata": {},
   "source": [
    "## Tipos de Datos"
   ]
  },
  {
   "cell_type": "code",
   "execution_count": 1,
   "metadata": {},
   "outputs": [
    {
     "name": "stdout",
     "output_type": "stream",
     "text": [
      "29\n",
      "15.9\n",
      "True\n",
      "(2+5j)\n",
      "Soy un string\n",
      "Tambien soy un string\n"
     ]
    }
   ],
   "source": [
    "# Trabajando con tipos de datos\n",
    "x = 29\n",
    "y = 15.9\n",
    "z = True\n",
    "c = 2 + 5j\n",
    "s = \"Soy un string\"\n",
    "sx = 'Tambien soy un string'\n",
    "# Imprime las variables\n",
    "print(x)\n",
    "print(y)\n",
    "print(z)\n",
    "print(c)\n",
    "print(s)\n",
    "print(sx)"
   ]
  },
  {
   "cell_type": "markdown",
   "metadata": {},
   "source": [
    "## Operadores"
   ]
  },
  {
   "cell_type": "code",
   "execution_count": 2,
   "metadata": {},
   "outputs": [
    {
     "name": "stdout",
     "output_type": "stream",
     "text": [
      "10\n",
      "55.8\n",
      "2\n",
      "2.5\n",
      "2\n",
      "32\n",
      "10\n"
     ]
    }
   ],
   "source": [
    "# Operadores artiméticos\n",
    "x=2+8\n",
    "y = 25.4 + 30.4\n",
    "z = 5 // 2 # Operador de división considerando solo la parte entera w = 5 / 2 # Operador de divisón tradicional\n",
    "w = 5 / 2 # Operador de divisón tradicional\n",
    "r = 12 % 5 # Resto de la división \n",
    "p = z ** 5 # Potencia\n",
    "m = z * 5 # Multiplicación\n",
    "\n",
    "# Imprime los valores\n",
    "print(x)\n",
    "print(y)\n",
    "print(z)\n",
    "print(w)\n",
    "print(r)\n",
    "print(p)\n",
    "print(m)"
   ]
  },
  {
   "cell_type": "markdown",
   "metadata": {},
   "source": [
    "## Manejos de Strings"
   ]
  },
  {
   "cell_type": "code",
   "execution_count": 3,
   "metadata": {},
   "outputs": [
    {
     "name": "stdout",
     "output_type": "stream",
     "text": [
      "cadenalibre\n",
      "cadena libre\n",
      "librelibrelibrelibre\n"
     ]
    }
   ],
   "source": [
    "# Operadores de string (cadenas de carateres)\n",
    "x = \"cadena\"\n",
    "y = 'libre'\n",
    "# Operador de concatenación\n",
    "z=x+y\n",
    "# Operador de repetición \n",
    "w = y*4\n",
    "# Imprime las variables\n",
    "print(z)\n",
    "print(x,y) # Notar la concatenación implicita de las cadenas e insertando el espacio de separación \n",
    "print(w)"
   ]
  },
  {
   "cell_type": "markdown",
   "metadata": {},
   "source": [
    "## Operadadores Relacionales"
   ]
  },
  {
   "cell_type": "code",
   "execution_count": 4,
   "metadata": {},
   "outputs": [
    {
     "name": "stdout",
     "output_type": "stream",
     "text": [
      "False\n",
      "True\n",
      "True\n",
      "True\n"
     ]
    }
   ],
   "source": [
    "# Operadores relacionales\n",
    "x = 29\n",
    "y = 15\n",
    "print(x == y) # Operador de igualdad\n",
    "print(x > y) # De forma análoga existe el < \n",
    "print(x != y) # Operador de desigualdad \n",
    "print(x >= y) # De forma análoga existe el <="
   ]
  },
  {
   "cell_type": "markdown",
   "metadata": {},
   "source": [
    "## Operadores Lógicos"
   ]
  },
  {
   "cell_type": "code",
   "execution_count": 5,
   "metadata": {},
   "outputs": [
    {
     "name": "stdout",
     "output_type": "stream",
     "text": [
      "True\n",
      "False\n",
      "False\n"
     ]
    }
   ],
   "source": [
    "# Operadores lógicos\n",
    "print(x > y or x > 20) \n",
    "print(x > y and y > 20) \n",
    "print(not x != y)"
   ]
  },
  {
   "cell_type": "markdown",
   "metadata": {},
   "source": [
    "## Operadores de Asignación"
   ]
  },
  {
   "cell_type": "code",
   "execution_count": 6,
   "metadata": {},
   "outputs": [
    {
     "name": "stdout",
     "output_type": "stream",
     "text": [
      "x =  15\n",
      "x += 2 : 17\n",
      "x -= 6 : 11\n",
      "x *= 3 : 33\n",
      "x **= 2 : 1089\n",
      "x //= 2 : 544\n",
      "x /= 3 : 181.33333333333334\n",
      "x %= 2 : 1.3333333333333428\n"
     ]
    }
   ],
   "source": [
    "# Operadores de asignación\n",
    "x = 15\n",
    "print(\"x = \", x)\n",
    "x += 2 # x = x + 2\n",
    "print(\"x += 2 :\", x)\n",
    "x -= 6\n",
    "print(\"x -= 6 :\", x)\n",
    "x *= 3\n",
    "print(\"x *= 3 :\", x)\n",
    "x **= 2\n",
    "print(\"x **= 2 :\", x)\n",
    "x //= 2\n",
    "print(\"x //= 2 :\", x)\n",
    "x /= 3\n",
    "print(\"x /= 3 :\", x)\n",
    "x %= 2\n",
    "print(\"x %= 2 :\", x)"
   ]
  },
  {
   "cell_type": "code",
   "execution_count": 7,
   "metadata": {},
   "outputs": [],
   "source": [
    "## Operadores de Bits"
   ]
  },
  {
   "cell_type": "code",
   "execution_count": 8,
   "metadata": {},
   "outputs": [
    {
     "name": "stdout",
     "output_type": "stream",
     "text": [
      "1\n",
      "7\n",
      "6\n",
      "20\n",
      "16\n"
     ]
    }
   ],
   "source": [
    "# Operadores a nivel de bits\n",
    "print(5 & 3) # Representa el operador AND\n",
    "print(5 | 3) # Representa el operador OR\n",
    "print(5 ^ 3) # Representa el operador XOR\n",
    "print(5 << 2) # n << x : representa el movimiento de x bits a la izquierda \n",
    "print(64 >> 2) # n >> x : representa el movimiento de x bits a la derecha"
   ]
  },
  {
   "cell_type": "markdown",
   "metadata": {},
   "source": [
    "### 1.1.3 Explicación de resultados\n",
    "    Lo primero es buscar la representación en binario de ambos números 5 (101) y 3 (011)\n",
    "    Usando la tabla de verdad del AND 101 AND 011 = 001 que, en el sistema decimal, es el 1\n",
    "    Usando la tabla de verdad del OR 101 AND 011 = 111 que, en el sistema decimal, es el 7\n",
    "    Usando la tabla de verdad del XOR 101 AND 011 = 110 que, en el sistema decimal, es el 6\n",
    "    01 << 2 implica mover 2 bits a la izquierda y queda 10100 que, en el sistema decimal, es 20 = (16+0+4+0+0)\n",
    "    1000000 >> 2 implica mover 2 bits a la derecha y queda 10000 que, en el sistema decimal, es 16"
   ]
  },
  {
   "cell_type": "markdown",
   "metadata": {},
   "source": [
    "## Funciones de tipos de Datos"
   ]
  },
  {
   "cell_type": "code",
   "execution_count": 9,
   "metadata": {},
   "outputs": [
    {
     "name": "stdout",
     "output_type": "stream",
     "text": [
      "<class 'int'>\n",
      "Quiero concatenar usando el operador + 29\n",
      "25\n",
      "25.4\n",
      "True\n",
      "True\n",
      "False\n",
      "True\n",
      "(1+6j)\n"
     ]
    }
   ],
   "source": [
    "x = 29\n",
    "print(type(x))\n",
    "print(\"Quiero concatenar usando el operador + \" + str(x))\n",
    "s = \"25\"\n",
    "print(int(s))\n",
    "s = \"25.4\"\n",
    "print(float(s))\n",
    "print(bool(\"1\"))\n",
    "print(bool(\"0\"))\n",
    "print(bool(0))\n",
    "print(bool(\"cualquier string siempre será verdadero\"))\n",
    "print(complex(1,6))"
   ]
  }
 ],
 "metadata": {
  "kernelspec": {
   "display_name": "Python 3",
   "language": "python",
   "name": "python3"
  },
  "language_info": {
   "codemirror_mode": {
    "name": "ipython",
    "version": 3
   },
   "file_extension": ".py",
   "mimetype": "text/x-python",
   "name": "python",
   "nbconvert_exporter": "python",
   "pygments_lexer": "ipython3",
   "version": "3.7.6"
  }
 },
 "nbformat": 4,
 "nbformat_minor": 4
}
