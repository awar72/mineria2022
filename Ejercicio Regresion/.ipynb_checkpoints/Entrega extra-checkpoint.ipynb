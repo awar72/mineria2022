{
 "cells": [
  {
   "cell_type": "markdown",
   "id": "eb08aac9",
   "metadata": {},
   "source": [
    "# Inicio\n",
    "Importar librerias y leer el archivo"
   ]
  },
  {
   "cell_type": "code",
   "execution_count": 265,
   "id": "0724d6b9",
   "metadata": {},
   "outputs": [],
   "source": [
    "import matplotlib.pyplot as plt\n",
    "import numpy as np\n",
    "import pandas as pd\n",
    "import seaborn as sns\n",
    "from sklearn import datasets, linear_model\n",
    "from sklearn.model_selection import train_test_split\n",
    "from sklearn import metrics\n",
    "\n",
    "df = pd.read_csv(\"articulos_ml.csv\")"
   ]
  },
  {
   "cell_type": "markdown",
   "id": "9689c260",
   "metadata": {},
   "source": [
    "## Información basica del DataFrame"
   ]
  },
  {
   "cell_type": "markdown",
   "id": "62365805",
   "metadata": {},
   "source": [
    "### Cabeza del DataFrame"
   ]
  },
  {
   "cell_type": "code",
   "execution_count": 266,
   "id": "6e519328",
   "metadata": {},
   "outputs": [
    {
     "data": {
      "text/html": [
       "<div>\n",
       "<style scoped>\n",
       "    .dataframe tbody tr th:only-of-type {\n",
       "        vertical-align: middle;\n",
       "    }\n",
       "\n",
       "    .dataframe tbody tr th {\n",
       "        vertical-align: top;\n",
       "    }\n",
       "\n",
       "    .dataframe thead th {\n",
       "        text-align: right;\n",
       "    }\n",
       "</style>\n",
       "<table border=\"1\" class=\"dataframe\">\n",
       "  <thead>\n",
       "    <tr style=\"text-align: right;\">\n",
       "      <th></th>\n",
       "      <th>Title</th>\n",
       "      <th>url</th>\n",
       "      <th>Word count</th>\n",
       "      <th># of Links</th>\n",
       "      <th># of comments</th>\n",
       "      <th># Images video</th>\n",
       "      <th>Elapsed days</th>\n",
       "      <th># Shares</th>\n",
       "    </tr>\n",
       "  </thead>\n",
       "  <tbody>\n",
       "    <tr>\n",
       "      <th>0</th>\n",
       "      <td>What is Machine Learning and how do we use it ...</td>\n",
       "      <td>https://blog.signals.network/what-is-machine-l...</td>\n",
       "      <td>1888</td>\n",
       "      <td>1</td>\n",
       "      <td>2.0</td>\n",
       "      <td>2</td>\n",
       "      <td>34</td>\n",
       "      <td>200000</td>\n",
       "    </tr>\n",
       "    <tr>\n",
       "      <th>1</th>\n",
       "      <td>10 Companies Using Machine Learning in Cool Ways</td>\n",
       "      <td>NaN</td>\n",
       "      <td>1742</td>\n",
       "      <td>9</td>\n",
       "      <td>NaN</td>\n",
       "      <td>9</td>\n",
       "      <td>5</td>\n",
       "      <td>25000</td>\n",
       "    </tr>\n",
       "    <tr>\n",
       "      <th>2</th>\n",
       "      <td>How Artificial Intelligence Is Revolutionizing...</td>\n",
       "      <td>NaN</td>\n",
       "      <td>962</td>\n",
       "      <td>6</td>\n",
       "      <td>0.0</td>\n",
       "      <td>1</td>\n",
       "      <td>10</td>\n",
       "      <td>42000</td>\n",
       "    </tr>\n",
       "    <tr>\n",
       "      <th>3</th>\n",
       "      <td>Dbrain and the Blockchain of Artificial Intell...</td>\n",
       "      <td>NaN</td>\n",
       "      <td>1221</td>\n",
       "      <td>3</td>\n",
       "      <td>NaN</td>\n",
       "      <td>2</td>\n",
       "      <td>68</td>\n",
       "      <td>200000</td>\n",
       "    </tr>\n",
       "    <tr>\n",
       "      <th>4</th>\n",
       "      <td>Nasa finds entire solar system filled with eig...</td>\n",
       "      <td>NaN</td>\n",
       "      <td>2039</td>\n",
       "      <td>1</td>\n",
       "      <td>104.0</td>\n",
       "      <td>4</td>\n",
       "      <td>131</td>\n",
       "      <td>200000</td>\n",
       "    </tr>\n",
       "  </tbody>\n",
       "</table>\n",
       "</div>"
      ],
      "text/plain": [
       "                                               Title  \\\n",
       "0  What is Machine Learning and how do we use it ...   \n",
       "1   10 Companies Using Machine Learning in Cool Ways   \n",
       "2  How Artificial Intelligence Is Revolutionizing...   \n",
       "3  Dbrain and the Blockchain of Artificial Intell...   \n",
       "4  Nasa finds entire solar system filled with eig...   \n",
       "\n",
       "                                                 url  Word count  # of Links  \\\n",
       "0  https://blog.signals.network/what-is-machine-l...        1888           1   \n",
       "1                                                NaN        1742           9   \n",
       "2                                                NaN         962           6   \n",
       "3                                                NaN        1221           3   \n",
       "4                                                NaN        2039           1   \n",
       "\n",
       "   # of comments  # Images video  Elapsed days  # Shares  \n",
       "0            2.0               2            34    200000  \n",
       "1            NaN               9             5     25000  \n",
       "2            0.0               1            10     42000  \n",
       "3            NaN               2            68    200000  \n",
       "4          104.0               4           131    200000  "
      ]
     },
     "execution_count": 266,
     "metadata": {},
     "output_type": "execute_result"
    }
   ],
   "source": [
    "df.head()\n",
    "#df[df[\"# of comments\"].isnull()]\n",
    "#df[\"# of comments\"] = df[\"# of comments\"].dropna()"
   ]
  },
  {
   "cell_type": "code",
   "execution_count": 267,
   "id": "a02e67c9",
   "metadata": {},
   "outputs": [
    {
     "data": {
      "text/html": [
       "<div>\n",
       "<style scoped>\n",
       "    .dataframe tbody tr th:only-of-type {\n",
       "        vertical-align: middle;\n",
       "    }\n",
       "\n",
       "    .dataframe tbody tr th {\n",
       "        vertical-align: top;\n",
       "    }\n",
       "\n",
       "    .dataframe thead th {\n",
       "        text-align: right;\n",
       "    }\n",
       "</style>\n",
       "<table border=\"1\" class=\"dataframe\">\n",
       "  <thead>\n",
       "    <tr style=\"text-align: right;\">\n",
       "      <th></th>\n",
       "      <th>Word count</th>\n",
       "      <th># of Links</th>\n",
       "      <th># of comments</th>\n",
       "      <th># Images video</th>\n",
       "      <th>Elapsed days</th>\n",
       "      <th># Shares</th>\n",
       "    </tr>\n",
       "  </thead>\n",
       "  <tbody>\n",
       "    <tr>\n",
       "      <th>count</th>\n",
       "      <td>161.000000</td>\n",
       "      <td>161.000000</td>\n",
       "      <td>129.000000</td>\n",
       "      <td>161.000000</td>\n",
       "      <td>161.000000</td>\n",
       "      <td>161.000000</td>\n",
       "    </tr>\n",
       "    <tr>\n",
       "      <th>mean</th>\n",
       "      <td>1808.260870</td>\n",
       "      <td>9.739130</td>\n",
       "      <td>8.782946</td>\n",
       "      <td>3.670807</td>\n",
       "      <td>98.124224</td>\n",
       "      <td>27948.347826</td>\n",
       "    </tr>\n",
       "    <tr>\n",
       "      <th>std</th>\n",
       "      <td>1141.919385</td>\n",
       "      <td>47.271625</td>\n",
       "      <td>13.142822</td>\n",
       "      <td>3.418290</td>\n",
       "      <td>114.337535</td>\n",
       "      <td>43408.006839</td>\n",
       "    </tr>\n",
       "    <tr>\n",
       "      <th>min</th>\n",
       "      <td>250.000000</td>\n",
       "      <td>0.000000</td>\n",
       "      <td>0.000000</td>\n",
       "      <td>1.000000</td>\n",
       "      <td>1.000000</td>\n",
       "      <td>0.000000</td>\n",
       "    </tr>\n",
       "    <tr>\n",
       "      <th>25%</th>\n",
       "      <td>990.000000</td>\n",
       "      <td>3.000000</td>\n",
       "      <td>2.000000</td>\n",
       "      <td>1.000000</td>\n",
       "      <td>31.000000</td>\n",
       "      <td>2800.000000</td>\n",
       "    </tr>\n",
       "    <tr>\n",
       "      <th>50%</th>\n",
       "      <td>1674.000000</td>\n",
       "      <td>5.000000</td>\n",
       "      <td>6.000000</td>\n",
       "      <td>3.000000</td>\n",
       "      <td>62.000000</td>\n",
       "      <td>16458.000000</td>\n",
       "    </tr>\n",
       "    <tr>\n",
       "      <th>75%</th>\n",
       "      <td>2369.000000</td>\n",
       "      <td>7.000000</td>\n",
       "      <td>12.000000</td>\n",
       "      <td>5.000000</td>\n",
       "      <td>124.000000</td>\n",
       "      <td>35691.000000</td>\n",
       "    </tr>\n",
       "    <tr>\n",
       "      <th>max</th>\n",
       "      <td>8401.000000</td>\n",
       "      <td>600.000000</td>\n",
       "      <td>104.000000</td>\n",
       "      <td>22.000000</td>\n",
       "      <td>1002.000000</td>\n",
       "      <td>350000.000000</td>\n",
       "    </tr>\n",
       "  </tbody>\n",
       "</table>\n",
       "</div>"
      ],
      "text/plain": [
       "        Word count  # of Links  # of comments  # Images video  Elapsed days  \\\n",
       "count   161.000000  161.000000     129.000000      161.000000    161.000000   \n",
       "mean   1808.260870    9.739130       8.782946        3.670807     98.124224   \n",
       "std    1141.919385   47.271625      13.142822        3.418290    114.337535   \n",
       "min     250.000000    0.000000       0.000000        1.000000      1.000000   \n",
       "25%     990.000000    3.000000       2.000000        1.000000     31.000000   \n",
       "50%    1674.000000    5.000000       6.000000        3.000000     62.000000   \n",
       "75%    2369.000000    7.000000      12.000000        5.000000    124.000000   \n",
       "max    8401.000000  600.000000     104.000000       22.000000   1002.000000   \n",
       "\n",
       "            # Shares  \n",
       "count     161.000000  \n",
       "mean    27948.347826  \n",
       "std     43408.006839  \n",
       "min         0.000000  \n",
       "25%      2800.000000  \n",
       "50%     16458.000000  \n",
       "75%     35691.000000  \n",
       "max    350000.000000  "
      ]
     },
     "execution_count": 267,
     "metadata": {},
     "output_type": "execute_result"
    }
   ],
   "source": [
    "df.describe()"
   ]
  },
  {
   "cell_type": "markdown",
   "id": "fd3ed304",
   "metadata": {},
   "source": [
    "Rango de dias: 3 a 178\n",
    "Maximo de compartidas: 200.000\n",
    "Maximo cant. Links: 39\n"
   ]
  },
  {
   "cell_type": "code",
   "execution_count": 242,
   "id": "ee264296",
   "metadata": {},
   "outputs": [],
   "source": [
    "df = df[(df[\"Elapsed days\"] < 1000) &\n",
    "         (df[\"# Shares\"] < 200000) & (df[\"# of Links\"] < 600) &\n",
    "       (df[\"# of comments\"] < 20)]"
   ]
  },
  {
   "cell_type": "markdown",
   "id": "55bf69f0",
   "metadata": {},
   "source": [
    "### Tipo de valores en columnas"
   ]
  },
  {
   "cell_type": "code",
   "execution_count": 243,
   "id": "11f4a18f",
   "metadata": {},
   "outputs": [
    {
     "data": {
      "text/plain": [
       "Title              object\n",
       "url                object\n",
       "Word count          int64\n",
       "# of Links          int64\n",
       "# of comments     float64\n",
       "# Images video      int64\n",
       "Elapsed days        int64\n",
       "# Shares            int64\n",
       "dtype: object"
      ]
     },
     "execution_count": 243,
     "metadata": {},
     "output_type": "execute_result"
    }
   ],
   "source": [
    "df.dtypes"
   ]
  },
  {
   "cell_type": "markdown",
   "id": "c605399c",
   "metadata": {},
   "source": [
    "### Forma del DataFrame"
   ]
  },
  {
   "cell_type": "code",
   "execution_count": 244,
   "id": "55ab4cc9",
   "metadata": {},
   "outputs": [
    {
     "data": {
      "text/plain": [
       "(119, 8)"
      ]
     },
     "execution_count": 244,
     "metadata": {},
     "output_type": "execute_result"
    }
   ],
   "source": [
    "df.shape"
   ]
  },
  {
   "cell_type": "markdown",
   "id": "8e3a037f",
   "metadata": {},
   "source": [
    "### Columnas del data frame"
   ]
  },
  {
   "cell_type": "code",
   "execution_count": 245,
   "id": "8771af4f",
   "metadata": {},
   "outputs": [
    {
     "name": "stdout",
     "output_type": "stream",
     "text": [
      "Title\n",
      "url\n",
      "Word count\n",
      "# of Links\n",
      "# of comments\n",
      "# Images video\n",
      "Elapsed days\n",
      "# Shares\n"
     ]
    }
   ],
   "source": [
    "for column in list(df.columns):\n",
    "    print(column)"
   ]
  },
  {
   "cell_type": "markdown",
   "id": "3952511f",
   "metadata": {},
   "source": [
    "### Cantidad de nulos por columnas"
   ]
  },
  {
   "cell_type": "code",
   "execution_count": 235,
   "id": "7678b671",
   "metadata": {},
   "outputs": [
    {
     "name": "stdout",
     "output_type": "stream",
     "text": [
      "Total de valores nulos de Title = 0\n",
      "Total de valores nulos de url = 17\n",
      "Total de valores nulos de Word count = 0\n",
      "Total de valores nulos de # of Links = 0\n",
      "Total de valores nulos de # of comments = 0\n",
      "Total de valores nulos de # Images video = 0\n",
      "Total de valores nulos de Elapsed days = 0\n",
      "Total de valores nulos de # Shares = 0\n"
     ]
    }
   ],
   "source": [
    "for feature in df.columns:\n",
    "    print('Total de valores nulos de', feature, '=', df[feature].isna().sum())"
   ]
  },
  {
   "cell_type": "markdown",
   "id": "da338aa3",
   "metadata": {},
   "source": [
    "### Valores maximos"
   ]
  },
  {
   "cell_type": "code",
   "execution_count": 236,
   "id": "7ae178ef",
   "metadata": {},
   "outputs": [
    {
     "name": "stdout",
     "output_type": "stream",
     "text": [
      "Valor maximo de  Word count :  4437\n",
      "Valor maximo de  # of Links :  49\n",
      "Valor maximo de  # of comments :  19.0\n",
      "Valor maximo de  # Images video :  22\n",
      "Valor maximo de  Elapsed days :  349\n",
      "Valor maximo de  # Shares :  81403\n"
     ]
    }
   ],
   "source": [
    "for feature in df.columns:\n",
    "    if df[feature].dtype == \"float64\" or df[feature].dtype == \"int64\":\n",
    "        print(\"Valor maximo de \", feature, \": \", df[feature].max())"
   ]
  },
  {
   "cell_type": "markdown",
   "id": "d7d69fff",
   "metadata": {},
   "source": [
    "### Valores minimos"
   ]
  },
  {
   "cell_type": "code",
   "execution_count": 12,
   "id": "0099b314",
   "metadata": {},
   "outputs": [
    {
     "name": "stdout",
     "output_type": "stream",
     "text": [
      "Valor maximo de  Word count :  250\n",
      "Valor maximo de  # of Links :  0\n",
      "Valor maximo de  # of comments :  0.0\n",
      "Valor maximo de  # Images video :  1\n",
      "Valor maximo de  Elapsed days :  1\n",
      "Valor maximo de  # Shares :  0\n"
     ]
    }
   ],
   "source": [
    "for feature in df.columns:\n",
    "    if df[feature].dtype == \"float64\" or df[feature].dtype == \"int64\":\n",
    "        print(\"Valor maximo de \", feature, \": \", df[feature].min())"
   ]
  },
  {
   "cell_type": "markdown",
   "id": "2d2e20f0",
   "metadata": {},
   "source": [
    "## Manejo de datos"
   ]
  },
  {
   "cell_type": "markdown",
   "id": "ceb26cea",
   "metadata": {},
   "source": [
    "### Tratamiento Valores nulos"
   ]
  },
  {
   "cell_type": "markdown",
   "id": "b5406a61",
   "metadata": {},
   "source": [
    "Se utiliza el promedio del numero de comentarios ya que la cantidad de nulos afectaria la muestra en caso de eliminar esas filas"
   ]
  },
  {
   "cell_type": "code",
   "execution_count": 279,
   "id": "fe08edc8",
   "metadata": {},
   "outputs": [],
   "source": [
    "#Opcion 1: Llenar las casillas nulas con el valor promedio de las demas celdas\n",
    "#commentsMean = round(df[\"# of comments\"].mean())\n",
    "#df[\"# of comments\"] = df[\"# of comments\"].fillna(commentsMean)\n",
    "\n",
    "#Opcion 2: Eliminar los valores nulos de la tabla \"# of comments\"\n",
    "df = df.dropna(subset=[\"# of comments\"])"
   ]
  },
  {
   "cell_type": "markdown",
   "id": "e572d702",
   "metadata": {},
   "source": [
    "Verificación de que los nulos en la columna *# of comments* fueron cambiados por el promedio"
   ]
  },
  {
   "cell_type": "code",
   "execution_count": 100,
   "id": "72405590",
   "metadata": {},
   "outputs": [
    {
     "name": "stdout",
     "output_type": "stream",
     "text": [
      "Total de valores nulos de Title = 0\n",
      "Total de valores nulos de url = 27\n",
      "Total de valores nulos de Word count = 0\n",
      "Total de valores nulos de # of Links = 0\n",
      "Total de valores nulos de # of comments = 16\n",
      "Total de valores nulos de # Images video = 0\n",
      "Total de valores nulos de Elapsed days = 0\n",
      "Total de valores nulos de # Shares = 0\n"
     ]
    }
   ],
   "source": [
    "for feature in df.columns:\n",
    "    print('Total de valores nulos de', feature, '=', df[feature].isna().sum())"
   ]
  },
  {
   "cell_type": "markdown",
   "id": "7b71a1ce",
   "metadata": {},
   "source": [
    "### Graficos"
   ]
  },
  {
   "cell_type": "code",
   "execution_count": 280,
   "id": "3cfa95f2",
   "metadata": {},
   "outputs": [
    {
     "data": {
      "text/plain": [
       "Text(0.5, 1.0, 'Grafico 1: Correlación de las columnas')"
      ]
     },
     "execution_count": 280,
     "metadata": {},
     "output_type": "execute_result"
    },
    {
     "data": {
      "image/png": "[encoded data removed]",
      "text/plain": [
       "<Figure size 1080x1080 with 2 Axes>"
      ]
     },
     "metadata": {
      "needs_background": "light"
     },
     "output_type": "display_data"
    }
   ],
   "source": [
    "plt.figure(figsize = (15,15))\n",
    "p = sns.heatmap(df.corr(), annot=True,cmap='RdYlGn',square=True)\n",
    "p.set_title(\"Grafico 1: Correlación de las columnas\")"
   ]
  },
  {
   "cell_type": "markdown",
   "id": "d4da6602",
   "metadata": {},
   "source": [
    "## Observaciones grafico 1\n",
    "Con los valores nulos incluidos sin tratar, la columna que mayor correlación tiene con *# Shares* es *# of comments*"
   ]
  },
  {
   "cell_type": "markdown",
   "id": "9d510856",
   "metadata": {},
   "source": [
    "En caso de decidir tratar los valores nulos con el promedio de los demas valores, se utiliza el siguiente codigo para llenarlos con el valor entero mas cercano al promedio de los demas valores"
   ]
  },
  {
   "cell_type": "code",
   "execution_count": 524,
   "id": "ece88bdc",
   "metadata": {},
   "outputs": [],
   "source": [
    "#df[\"# of comments\"] = df[\"# of comments\"].apply(lambda x : round(x) if (x % 1) != 0 else x) "
   ]
  },
  {
   "cell_type": "markdown",
   "id": "601fec30",
   "metadata": {},
   "source": [
    "## Definiendo los valores a utilizar"
   ]
  },
  {
   "cell_type": "code",
   "execution_count": 270,
   "id": "4a600127",
   "metadata": {},
   "outputs": [
    {
     "data": {
      "text/plain": [
       "349"
      ]
     },
     "execution_count": 270,
     "metadata": {},
     "output_type": "execute_result"
    }
   ],
   "source": [
    "#Elimina el valor mas alto de links (600)\n",
    "maxLinks = df[\"# of Links\"].idxmax()\n",
    "df = df.drop(labels=maxLinks)\n",
    "\n",
    "#Elimina la cantidad maximo de dais\n",
    "maxDays = df[\"Elapsed days\"].idxmax()\n",
    "df = df.drop(labels=maxDays)\n",
    "df[\"Elapsed days\"].max()"
   ]
  },
  {
   "cell_type": "code",
   "execution_count": 271,
   "id": "14e6dc35",
   "metadata": {},
   "outputs": [
    {
     "data": {
      "image/png": "[encoded data removed]",
      "text/plain": [
       "<Figure size 1080x1080 with 2 Axes>"
      ]
     },
     "metadata": {
      "needs_background": "light"
     },
     "output_type": "display_data"
    }
   ],
   "source": [
    "plt.figure(figsize = (15,15))\n",
    "df2 = df[(df[\"# of comments\"] >= 1) & (df[\"# of comments\"] <= 15) & (df[\"# Shares\"] <= 100000)]\n",
    "\n",
    "p2 = sns.heatmap(df2.corr(),annot=True,cmap='RdYlGn',square=True)"
   ]
  },
  {
   "cell_type": "code",
   "execution_count": 277,
   "id": "ba30e223",
   "metadata": {},
   "outputs": [
    {
     "data": {
      "text/plain": [
       "<seaborn.axisgrid.FacetGrid at 0x227fa5fca60>"
      ]
     },
     "execution_count": 277,
     "metadata": {},
     "output_type": "execute_result"
    },
    {
     "data": {
      "image/png": "[encoded data removed]",
      "text/plain": [
       "<Figure size 360x360 with 1 Axes>"
      ]
     },
     "metadata": {
      "needs_background": "light"
     },
     "output_type": "display_data"
    }
   ],
   "source": [
    "sns.lmplot(x = '# of comments', y = '# Shares', data = df)"
   ]
  },
  {
   "cell_type": "code",
   "execution_count": 269,
   "id": "4181eec4",
   "metadata": {},
   "outputs": [
    {
     "data": {
      "text/plain": [
       "Text(0, 0.5, '# of comments')"
      ]
     },
     "execution_count": 269,
     "metadata": {},
     "output_type": "execute_result"
    },
    {
     "data": {
      "image/png": "[encoded data removed]",
      "text/plain": [
       "<Figure size 432x288 with 1 Axes>"
      ]
     },
     "metadata": {
      "needs_background": "light"
     },
     "output_type": "display_data"
    }
   ],
   "source": [
    "plt.scatter(df[\"# Shares\"], df[\"# of comments\"])\n",
    "plt.xlabel(\"# of shares\")\n",
    "plt.ylabel(\"# of comments\")"
   ]
  },
  {
   "cell_type": "code",
   "execution_count": 300,
   "id": "5874a856",
   "metadata": {},
   "outputs": [
    {
     "data": {
      "text/plain": [
       "350000"
      ]
     },
     "execution_count": 300,
     "metadata": {},
     "output_type": "execute_result"
    }
   ],
   "source": [
    "df[\"# Shares\"].max()"
   ]
  },
  {
   "cell_type": "markdown",
   "id": "d9bc0042",
   "metadata": {},
   "source": [
    "### Observaciones Grafico 2\n",
    "El grafico 2 muestra 1 punto muy disperso el cual muestra mas de $350.000$ compartidas con un bajo nivel de comentarios, este dato afecta negativamente a la muestra ya que es un parametro muy alejado del resto, por lo que debe ser eliminado."
   ]
  },
  {
   "cell_type": "code",
   "execution_count": 61,
   "id": "0a42b1d8",
   "metadata": {},
   "outputs": [],
   "source": [
    "#Primero conseguimos el index del valor maximo de la columna que queremos sacar\n",
    "idMaxValue = df[\"# Shares\"].idxmax()\n",
    "#Eliminamos del DF esa fila\n",
    "df = df.drop(labels=idMaxValue)"
   ]
  },
  {
   "cell_type": "code",
   "execution_count": 273,
   "id": "90afe4ea",
   "metadata": {},
   "outputs": [
    {
     "data": {
      "text/plain": [
       "Text(0, 0.5, '# of comments')"
      ]
     },
     "execution_count": 273,
     "metadata": {},
     "output_type": "execute_result"
    },
    {
     "data": {
      "image/png": "[encoded data removed]",
      "text/plain": [
       "<Figure size 432x288 with 1 Axes>"
      ]
     },
     "metadata": {
      "needs_background": "light"
     },
     "output_type": "display_data"
    }
   ],
   "source": [
    "#Comprobamos que el valor haya sido eliminado\n",
    "plt.scatter(df[\"# Shares\"], df[\"# of comments\"])\n",
    "plt.xlabel(\"# of shares\")\n",
    "plt.ylabel(\"# of comments\")"
   ]
  },
  {
   "cell_type": "markdown",
   "id": "bbfaa869",
   "metadata": {},
   "source": [
    "Aun siguen habiendo valores muy alejados del promedio, estos tambien afectan negativamente el resultado, por lo que se borraran para seguir acotando la cantidad de valores"
   ]
  },
  {
   "cell_type": "code",
   "execution_count": 543,
   "id": "db71c2c1",
   "metadata": {},
   "outputs": [
    {
     "ename": "ValueError",
     "evalue": "The truth value of a Series is ambiguous. Use a.empty, a.bool(), a.item(), a.any() or a.all().",
     "output_type": "error",
     "traceback": [
      "\u001b[1;31m---------------------------------------------------------------------------\u001b[0m",
      "\u001b[1;31mValueError\u001b[0m                                Traceback (most recent call last)",
      "\u001b[1;32m~\\AppData\\Local\\Temp/ipykernel_28920/1433518729.py\u001b[0m in \u001b[0;36m<module>\u001b[1;34m\u001b[0m\n\u001b[0;32m      1\u001b[0m \u001b[0midValues\u001b[0m \u001b[1;33m=\u001b[0m \u001b[0mdf\u001b[0m\u001b[1;33m[\u001b[0m\u001b[1;34m\"# Shares\"\u001b[0m\u001b[1;33m]\u001b[0m\u001b[1;33m.\u001b[0m\u001b[0midxmax\u001b[0m\u001b[1;33m(\u001b[0m\u001b[1;33m)\u001b[0m\u001b[1;33m\u001b[0m\u001b[1;33m\u001b[0m\u001b[0m\n\u001b[0;32m      2\u001b[0m \u001b[1;33m\u001b[0m\u001b[0m\n\u001b[1;32m----> 3\u001b[1;33m \u001b[0mdf2\u001b[0m \u001b[1;33m=\u001b[0m \u001b[0mdf\u001b[0m\u001b[1;33m[\u001b[0m\u001b[0mdf\u001b[0m\u001b[1;33m[\u001b[0m\u001b[1;34m\"# Shares\"\u001b[0m\u001b[1;33m]\u001b[0m \u001b[1;33m<=\u001b[0m \u001b[1;36m200000\u001b[0m \u001b[1;32mand\u001b[0m \u001b[0mdf\u001b[0m\u001b[1;33m[\u001b[0m\u001b[1;34m\"# of comments\"\u001b[0m\u001b[1;33m]\u001b[0m \u001b[1;33m>\u001b[0m \u001b[1;36m1\u001b[0m\u001b[1;33m]\u001b[0m\u001b[1;33m\u001b[0m\u001b[1;33m\u001b[0m\u001b[0m\n\u001b[0m\u001b[0;32m      4\u001b[0m \u001b[0mdf2\u001b[0m\u001b[1;33m\u001b[0m\u001b[1;33m\u001b[0m\u001b[0m\n\u001b[0;32m      5\u001b[0m \u001b[1;33m\u001b[0m\u001b[0m\n",
      "\u001b[1;32mC:\\ProgramData\\Anaconda3\\lib\\site-packages\\pandas\\core\\generic.py\u001b[0m in \u001b[0;36m__nonzero__\u001b[1;34m(self)\u001b[0m\n\u001b[0;32m   1535\u001b[0m     \u001b[1;33m@\u001b[0m\u001b[0mfinal\u001b[0m\u001b[1;33m\u001b[0m\u001b[1;33m\u001b[0m\u001b[0m\n\u001b[0;32m   1536\u001b[0m     \u001b[1;32mdef\u001b[0m \u001b[0m__nonzero__\u001b[0m\u001b[1;33m(\u001b[0m\u001b[0mself\u001b[0m\u001b[1;33m)\u001b[0m\u001b[1;33m:\u001b[0m\u001b[1;33m\u001b[0m\u001b[1;33m\u001b[0m\u001b[0m\n\u001b[1;32m-> 1537\u001b[1;33m         raise ValueError(\n\u001b[0m\u001b[0;32m   1538\u001b[0m             \u001b[1;34mf\"The truth value of a {type(self).__name__} is ambiguous. \"\u001b[0m\u001b[1;33m\u001b[0m\u001b[1;33m\u001b[0m\u001b[0m\n\u001b[0;32m   1539\u001b[0m             \u001b[1;34m\"Use a.empty, a.bool(), a.item(), a.any() or a.all().\"\u001b[0m\u001b[1;33m\u001b[0m\u001b[1;33m\u001b[0m\u001b[0m\n",
      "\u001b[1;31mValueError\u001b[0m: The truth value of a Series is ambiguous. Use a.empty, a.bool(), a.item(), a.any() or a.all()."
     ]
    }
   ],
   "source": [
    "idValues = df[\"# Shares\"].idxmax()\n",
    "\n",
    "df2 = df[df[\"# Shares\"] <= 200000 and df[\"# of comments\"] > 1]\n",
    "df2\n",
    "\n",
    "plt.scatter(df2[\"# Shares\"], df2[\"# of comments\"])\n",
    "plt.xlabel(\"# of shares\")\n",
    "plt.ylabel(\"# of comments\")\n",
    "#df = df.drop(df[\"# Shares\"].max())"
   ]
  },
  {
   "cell_type": "markdown",
   "id": "93dee5b2",
   "metadata": {},
   "source": [
    "## Entrenando el modelo"
   ]
  },
  {
   "cell_type": "code",
   "execution_count": 281,
   "id": "a2bbcc85",
   "metadata": {},
   "outputs": [],
   "source": [
    "#Columnas de las cuales se sacaran los datos para entrenar el modelo\n",
    "#df2 = df[df[\"# Shares\"] <= 100000]\n",
    "X= df[['Word count','# of Links',\"# of comments\", '# Images video', 'Elapsed days']]\n",
    "#X= df[['Elapsed days']]\n",
    "#X = df[['# of comments']]\n",
    "#Columna con los resultados a predecir\n",
    "y= df[\"# Shares\"]\n",
    "# Metodo el cual particiona la data en entrenamiento y prueba, utilizando un 40% de la data como prueba y un 60% para el entrenamiento\n",
    "# Se utiliza un estado random para evitar que se seleccione siempre la misma data\n",
    "x_train, x_test, y_train, y_test = train_test_split(X, y, test_size = 0.4)"
   ]
  },
  {
   "cell_type": "code",
   "execution_count": 282,
   "id": "0181963d",
   "metadata": {},
   "outputs": [],
   "source": [
    "lm = linear_model.LinearRegression()"
   ]
  },
  {
   "cell_type": "code",
   "execution_count": 283,
   "id": "07907ca1",
   "metadata": {},
   "outputs": [
    {
     "data": {
      "text/plain": [
       "LinearRegression()"
      ]
     },
     "execution_count": 283,
     "metadata": {},
     "output_type": "execute_result"
    }
   ],
   "source": [
    "lm.fit(x_train, y_train)"
   ]
  },
  {
   "cell_type": "code",
   "execution_count": 284,
   "id": "797a6107",
   "metadata": {},
   "outputs": [
    {
     "name": "stdout",
     "output_type": "stream",
     "text": [
      "14456.156607280984\n"
     ]
    }
   ],
   "source": [
    "print(lm.intercept_)"
   ]
  },
  {
   "cell_type": "code",
   "execution_count": 285,
   "id": "396d3110",
   "metadata": {},
   "outputs": [
    {
     "data": {
      "text/html": [
       "<div>\n",
       "<style scoped>\n",
       "    .dataframe tbody tr th:only-of-type {\n",
       "        vertical-align: middle;\n",
       "    }\n",
       "\n",
       "    .dataframe tbody tr th {\n",
       "        vertical-align: top;\n",
       "    }\n",
       "\n",
       "    .dataframe thead th {\n",
       "        text-align: right;\n",
       "    }\n",
       "</style>\n",
       "<table border=\"1\" class=\"dataframe\">\n",
       "  <thead>\n",
       "    <tr style=\"text-align: right;\">\n",
       "      <th></th>\n",
       "      <th>Coeficiente</th>\n",
       "    </tr>\n",
       "  </thead>\n",
       "  <tbody>\n",
       "    <tr>\n",
       "      <th>Word count</th>\n",
       "      <td>5.079714</td>\n",
       "    </tr>\n",
       "    <tr>\n",
       "      <th># of Links</th>\n",
       "      <td>-108.751051</td>\n",
       "    </tr>\n",
       "    <tr>\n",
       "      <th># of comments</th>\n",
       "      <td>1276.272021</td>\n",
       "    </tr>\n",
       "    <tr>\n",
       "      <th># Images video</th>\n",
       "      <td>-1075.995629</td>\n",
       "    </tr>\n",
       "    <tr>\n",
       "      <th>Elapsed days</th>\n",
       "      <td>-93.486970</td>\n",
       "    </tr>\n",
       "  </tbody>\n",
       "</table>\n",
       "</div>"
      ],
      "text/plain": [
       "                Coeficiente\n",
       "Word count         5.079714\n",
       "# of Links      -108.751051\n",
       "# of comments   1276.272021\n",
       "# Images video -1075.995629\n",
       "Elapsed days     -93.486970"
      ]
     },
     "execution_count": 285,
     "metadata": {},
     "output_type": "execute_result"
    }
   ],
   "source": [
    "coeff_df = pd.DataFrame(lm.coef_, X.columns, columns=['Coeficiente'])\n",
    "coeff_df"
   ]
  },
  {
   "cell_type": "code",
   "execution_count": 286,
   "id": "30237ec1",
   "metadata": {},
   "outputs": [],
   "source": [
    "predictions = lm.predict(x_test)"
   ]
  },
  {
   "cell_type": "code",
   "execution_count": 287,
   "id": "a107e006",
   "metadata": {},
   "outputs": [
    {
     "data": {
      "text/plain": [
       "<matplotlib.collections.PathCollection at 0x227fc845820>"
      ]
     },
     "execution_count": 287,
     "metadata": {},
     "output_type": "execute_result"
    },
    {
     "data": {
      "image/png": "[encoded data removed]",
      "text/plain": [
       "<Figure size 432x288 with 1 Axes>"
      ]
     },
     "metadata": {
      "needs_background": "light"
     },
     "output_type": "display_data"
    }
   ],
   "source": [
    "plt.scatter(y_test, predictions)"
   ]
  },
  {
   "cell_type": "code",
   "execution_count": 288,
   "id": "b7645ebe",
   "metadata": {},
   "outputs": [
    {
     "data": {
      "text/plain": [
       "<seaborn.axisgrid.FacetGrid at 0x227fbc5ecd0>"
      ]
     },
     "execution_count": 288,
     "metadata": {},
     "output_type": "execute_result"
    },
    {
     "data": {
      "image/png": "[encoded data removed]",
      "text/plain": [
       "<Figure size 360x360 with 1 Axes>"
      ]
     },
     "metadata": {
      "needs_background": "light"
     },
     "output_type": "display_data"
    }
   ],
   "source": [
    "sns.displot((y_test-predictions), bins=50)"
   ]
  },
  {
   "cell_type": "code",
   "execution_count": 289,
   "id": "d68b070f",
   "metadata": {},
   "outputs": [
    {
     "name": "stdout",
     "output_type": "stream",
     "text": [
      "MAE:  20990.830811773332\n",
      "MSE:  1081160234.9279392\n",
      "RMSE:  32881.00112417411\n"
     ]
    }
   ],
   "source": [
    "print(\"MAE: \", metrics.mean_absolute_error(y_test, predictions))\n",
    "print(\"MSE: \", metrics.mean_squared_error(y_test, predictions))\n",
    "print(\"RMSE: \", np.sqrt(metrics.mean_squared_error(y_test, predictions)))"
   ]
  },
  {
   "cell_type": "code",
   "execution_count": 290,
   "id": "f104f91d",
   "metadata": {},
   "outputs": [
    {
     "name": "stdout",
     "output_type": "stream",
     "text": [
      "Score del modelo: 0.52\n"
     ]
    }
   ],
   "source": [
    "\n",
    "print(\"Score del modelo: %.2f\" % lm.score(x_train, y_train))"
   ]
  },
  {
   "cell_type": "code",
   "execution_count": 291,
   "id": "2080fed1",
   "metadata": {},
   "outputs": [
    {
     "data": {
      "text/html": [
       "<div>\n",
       "<style scoped>\n",
       "    .dataframe tbody tr th:only-of-type {\n",
       "        vertical-align: middle;\n",
       "    }\n",
       "\n",
       "    .dataframe tbody tr th {\n",
       "        vertical-align: top;\n",
       "    }\n",
       "\n",
       "    .dataframe thead th {\n",
       "        text-align: right;\n",
       "    }\n",
       "</style>\n",
       "<table border=\"1\" class=\"dataframe\">\n",
       "  <thead>\n",
       "    <tr style=\"text-align: right;\">\n",
       "      <th></th>\n",
       "      <th>Title</th>\n",
       "      <th>url</th>\n",
       "      <th>Word count</th>\n",
       "      <th># of Links</th>\n",
       "      <th># of comments</th>\n",
       "      <th># Images video</th>\n",
       "      <th>Elapsed days</th>\n",
       "      <th># Shares</th>\n",
       "    </tr>\n",
       "  </thead>\n",
       "  <tbody>\n",
       "    <tr>\n",
       "      <th>0</th>\n",
       "      <td>What is Machine Learning and how do we use it ...</td>\n",
       "      <td>https://blog.signals.network/what-is-machine-l...</td>\n",
       "      <td>1888</td>\n",
       "      <td>1</td>\n",
       "      <td>2.0</td>\n",
       "      <td>2</td>\n",
       "      <td>34</td>\n",
       "      <td>200000</td>\n",
       "    </tr>\n",
       "    <tr>\n",
       "      <th>2</th>\n",
       "      <td>How Artificial Intelligence Is Revolutionizing...</td>\n",
       "      <td>NaN</td>\n",
       "      <td>962</td>\n",
       "      <td>6</td>\n",
       "      <td>0.0</td>\n",
       "      <td>1</td>\n",
       "      <td>10</td>\n",
       "      <td>42000</td>\n",
       "    </tr>\n",
       "    <tr>\n",
       "      <th>4</th>\n",
       "      <td>Nasa finds entire solar system filled with eig...</td>\n",
       "      <td>NaN</td>\n",
       "      <td>2039</td>\n",
       "      <td>1</td>\n",
       "      <td>104.0</td>\n",
       "      <td>4</td>\n",
       "      <td>131</td>\n",
       "      <td>200000</td>\n",
       "    </tr>\n",
       "    <tr>\n",
       "      <th>7</th>\n",
       "      <td>How Machine Learning can help Cryptocurrency T...</td>\n",
       "      <td>https://cryptovest.com/news/how-machine-learni...</td>\n",
       "      <td>753</td>\n",
       "      <td>3</td>\n",
       "      <td>0.0</td>\n",
       "      <td>1</td>\n",
       "      <td>78</td>\n",
       "      <td>77000</td>\n",
       "    </tr>\n",
       "    <tr>\n",
       "      <th>10</th>\n",
       "      <td>Facebook robots shut down after they talk to e...</td>\n",
       "      <td>NaN</td>\n",
       "      <td>2090</td>\n",
       "      <td>1</td>\n",
       "      <td>95.0</td>\n",
       "      <td>1</td>\n",
       "      <td>267</td>\n",
       "      <td>100000</td>\n",
       "    </tr>\n",
       "  </tbody>\n",
       "</table>\n",
       "</div>"
      ],
      "text/plain": [
       "                                                Title  \\\n",
       "0   What is Machine Learning and how do we use it ...   \n",
       "2   How Artificial Intelligence Is Revolutionizing...   \n",
       "4   Nasa finds entire solar system filled with eig...   \n",
       "7   How Machine Learning can help Cryptocurrency T...   \n",
       "10  Facebook robots shut down after they talk to e...   \n",
       "\n",
       "                                                  url  Word count  # of Links  \\\n",
       "0   https://blog.signals.network/what-is-machine-l...        1888           1   \n",
       "2                                                 NaN         962           6   \n",
       "4                                                 NaN        2039           1   \n",
       "7   https://cryptovest.com/news/how-machine-learni...         753           3   \n",
       "10                                                NaN        2090           1   \n",
       "\n",
       "    # of comments  # Images video  Elapsed days  # Shares  \n",
       "0             2.0               2            34    200000  \n",
       "2             0.0               1            10     42000  \n",
       "4           104.0               4           131    200000  \n",
       "7             0.0               1            78     77000  \n",
       "10           95.0               1           267    100000  "
      ]
     },
     "execution_count": 291,
     "metadata": {},
     "output_type": "execute_result"
    }
   ],
   "source": [
    "df.head()"
   ]
  },
  {
   "cell_type": "code",
   "execution_count": 292,
   "id": "9a61fccb",
   "metadata": {},
   "outputs": [
    {
     "name": "stdout",
     "output_type": "stream",
     "text": [
      "Prediccion: [16679.47004687], Valor real: 0      200000\n",
      "2       42000\n",
      "4      200000\n",
      "7       77000\n",
      "10     100000\n",
      "        ...  \n",
      "156      3239\n",
      "157     25019\n",
      "158     49614\n",
      "159     33660\n",
      "160      5956\n",
      "Name: # Shares, Length: 128, dtype: int64, tasa de exito: 0      0.083397\n",
      "2      0.397130\n",
      "4      0.083397\n",
      "7      0.216616\n",
      "10     0.166795\n",
      "         ...   \n",
      "156    5.149574\n",
      "157    0.666672\n",
      "158    0.336185\n",
      "159    0.495528\n",
      "160    2.800448\n",
      "Name: # Shares, Length: 128, dtype: float64\n"
     ]
    }
   ],
   "source": [
    "test = [962,6,0.0,1,10]\n",
    "prediccion = lm.predict([test])\n",
    "valor_real = df[\"# Shares\"]\n",
    "vr = prediccion / valor_real\n",
    "print(f\"Prediccion: {prediccion}, Valor real: {valor_real}, tasa de exito: {vr}\")"
   ]
  },
  {
   "cell_type": "code",
   "execution_count": null,
   "id": "22149e52",
   "metadata": {},
   "outputs": [],
   "source": []
  }
 ],
 "metadata": {
  "kernelspec": {
   "display_name": "Python 3 (ipykernel)",
   "language": "python",
   "name": "python3"
  },
  "language_info": {
   "codemirror_mode": {
    "name": "ipython",
    "version": 3
   },
   "file_extension": ".py",
   "mimetype": "text/x-python",
   "name": "python",
   "nbconvert_exporter": "python",
   "pygments_lexer": "ipython3",
   "version": "3.9.7"
  }
 },
 "nbformat": 4,
 "nbformat_minor": 5
}
