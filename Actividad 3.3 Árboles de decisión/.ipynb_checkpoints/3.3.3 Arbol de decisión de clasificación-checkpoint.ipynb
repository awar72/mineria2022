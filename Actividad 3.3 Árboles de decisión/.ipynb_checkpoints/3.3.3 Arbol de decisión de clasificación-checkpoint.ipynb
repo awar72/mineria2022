{
 "cells": [
  {
   "cell_type": "markdown",
   "metadata": {},
   "source": [
    "# Árbol de decisión de clasificación\n",
    "\n",
    "Dado que el análisis exploratorio de este set de datos ya se realizó en las actividades anteriores ahora solo se procede directo a la creación, entrenamiento y validación del modelo y su correspondiente evaluación."
   ]
  },
  {
   "cell_type": "code",
   "execution_count": null,
   "metadata": {},
   "outputs": [],
   "source": [
    "# Carga de datos  \n",
    "# https://scikit-learn.org/stable/modules/generated/sklearn.datasets.load_breast_cancer.html\n",
    "import pandas as pd\n",
    "import numpy as np\n",
    "from sklearn import datasets\n",
    "dataset = datasets.load_breast_cancer()\n",
    "data_frame = pd.DataFrame(np.c_[dataset['data'], dataset['target']],\n",
    "                  columns= np.append(dataset['feature_names'], ['target']))\n",
    "data_frame"
   ]
  },
  {
   "cell_type": "markdown",
   "metadata": {},
   "source": [
    "## Preparación de los datos"
   ]
  },
  {
   "cell_type": "code",
   "execution_count": null,
   "metadata": {},
   "outputs": [],
   "source": [
    "data_frame.info()"
   ]
  },
  {
   "cell_type": "code",
   "execution_count": null,
   "metadata": {},
   "outputs": [],
   "source": [
    "# 0 = Malinga , 1 = Benigna\n",
    "print(data_frame.groupby('target').size())"
   ]
  },
  {
   "cell_type": "code",
   "execution_count": null,
   "metadata": {},
   "outputs": [],
   "source": [
    "import matplotlib.pyplot as plt\n",
    "# Gráfico de tortas del porcentaje de muestras benignas y mañignas\n",
    "# Contando las benignas\n",
    "clases = np.array([data_frame[data_frame.target == 0.0].shape[0], data_frame[data_frame.target == 1.0].shape[0]])\n",
    "\n",
    "# Creando las leyendas del grafico.\n",
    "labels = [ str(round(x * 1.0 / clases.sum() * 100.0, 2)) + '%'  for x in clases ]\n",
    "labels[0] = 'Malignas\\n ' + labels[0]\n",
    "labels[1] = 'Benignas\\n ' + labels[1]\n",
    "\n",
    "plt.pie(clases, labels=labels)\n",
    "plt.title('Porcentaje de muestras beningnas y malignas')\n",
    "plt.show()"
   ]
  },
  {
   "cell_type": "code",
   "execution_count": null,
   "metadata": {},
   "outputs": [],
   "source": [
    "# Selecciona las variables\n",
    "X = data_frame.drop([\"target\"],axis=1)\n",
    "\n",
    "# Rescata la etiqueta\n",
    "y = data_frame.target"
   ]
  },
  {
   "cell_type": "markdown",
   "metadata": {},
   "source": [
    "## Creación del modelo, entrenamiento, validación y evaluación"
   ]
  },
  {
   "cell_type": "code",
   "execution_count": null,
   "metadata": {},
   "outputs": [],
   "source": [
    "from sklearn.model_selection import train_test_split\n",
    "from sklearn.tree import DecisionTreeClassifier\n",
    "from sklearn.metrics import accuracy_score\n",
    "\n",
    "# Separar los datos de \"train\" en entrenamiento y prueba para probar los algoritmos\n",
    "X_train, X_test, y_train, y_test = train_test_split(X, y, test_size=0.2, random_state = 29)\n",
    "\n",
    "modelo = DecisionTreeClassifier(random_state=29)\n",
    "\n",
    "# Entrenamiento del modelo\n",
    "modelo.fit(X_train, y_train)\n",
    "\n",
    "# Validación del modelo\n",
    "y_pred = modelo.predict(X_test)\n",
    "\n",
    "# Evaluación del modelo\n",
    "print('Precisión del modelo:', modelo.score(X_test, y_test))\n",
    "print('Accuracy del modelo:', accuracy_score(y_test, y_pred))"
   ]
  },
  {
   "cell_type": "markdown",
   "metadata": {},
   "source": [
    "## Representación gráfica del árbol"
   ]
  },
  {
   "cell_type": "code",
   "execution_count": null,
   "metadata": {},
   "outputs": [],
   "source": [
    "cn = ['Maligna','Benigna']"
   ]
  },
  {
   "cell_type": "code",
   "execution_count": null,
   "metadata": {},
   "outputs": [],
   "source": [
    "from sklearn.tree import plot_tree\n",
    "import matplotlib.pyplot as plt\n",
    "fig, ax = plt.subplots(figsize=(30, 10))\n",
    "\n",
    "print(f\"Profundidad del árbol: {modelo.get_depth()}\")\n",
    "print(f\"Número de nodos terminales: {modelo.get_n_leaves()}\")\n",
    "\n",
    "plot = plot_tree(\n",
    "            decision_tree = modelo,\n",
    "            feature_names = data_frame.drop(columns = [\"target\"]).columns,\n",
    "            class_names   = cn,\n",
    "            filled        = True,\n",
    "            impurity      = False,\n",
    "            fontsize      = 10,\n",
    "            precision     = 2,\n",
    "            ax            = ax\n",
    "       )"
   ]
  },
  {
   "cell_type": "code",
   "execution_count": null,
   "metadata": {},
   "outputs": [],
   "source": [
    "fig.savefig(\"arbol_class.jpg\")"
   ]
  },
  {
   "cell_type": "code",
   "execution_count": null,
   "metadata": {},
   "outputs": [],
   "source": [
    "# Evaluación del modelo\n",
    "from sklearn.metrics import confusion_matrix\n",
    "\n",
    "matriz = confusion_matrix(y_test, y_pred)\n",
    "print('Matriz de Confusión:')\n",
    "print(matriz)"
   ]
  },
  {
   "cell_type": "code",
   "execution_count": null,
   "metadata": {},
   "outputs": [],
   "source": [
    "#Cantidad de Predicciones Malignas \n",
    "len(y_pred[y_pred[:]==0])"
   ]
  }
 ],
 "metadata": {
  "kernelspec": {
   "display_name": "Python 3",
   "language": "python",
   "name": "python3"
  },
  "language_info": {
   "codemirror_mode": {
    "name": "ipython",
    "version": 3
   },
   "file_extension": ".py",
   "mimetype": "text/x-python",
   "name": "python",
   "nbconvert_exporter": "python",
   "pygments_lexer": "ipython3",
   "version": "3.8.8"
  }
 },
 "nbformat": 4,
 "nbformat_minor": 4
}
