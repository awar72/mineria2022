{
 "cells": [
  {
   "cell_type": "code",
   "execution_count": null,
   "metadata": {},
   "outputs": [],
   "source": [
    "import statsmodels.api as sm\n",
    "import pandas as pd\n",
    "data_frame = pd.read_csv(\"Electric_Production.csv\")\n",
    "data_frame.head()"
   ]
  },
  {
   "cell_type": "code",
   "execution_count": null,
   "metadata": {},
   "outputs": [],
   "source": [
    "# Fecha mínima y máxima\n",
    "print(\"Fecha mínima\", min(data_frame['DATE']))\n",
    "print(\"Fecha máxima\", max(data_frame['DATE']))"
   ]
  },
  {
   "cell_type": "code",
   "execution_count": null,
   "metadata": {},
   "outputs": [],
   "source": [
    "data_frame.dtypes"
   ]
  },
  {
   "cell_type": "code",
   "execution_count": null,
   "metadata": {},
   "outputs": [],
   "source": [
    "# Muestras en cada año\n",
    "import datetime as dt\n",
    "data_frame['fecha'] = pd.to_datetime(data_frame['DATE'])  \n",
    "#data_frame\n",
    "data_frame['Value'].groupby(data_frame['fecha'].dt.year).count()"
   ]
  },
  {
   "cell_type": "code",
   "execution_count": null,
   "metadata": {},
   "outputs": [],
   "source": [
    "# Medidas estadísticas con pandas\n",
    "print(\"Promedio\", data_frame['Value'].mean())\n",
    "print(\"Desviación estándar\", data_frame['Value'].std())\n",
    "print(\"Valor mínimo\", data_frame['Value'].min())\n",
    "print(\"Valor máximo\", data_frame['Value'].max())"
   ]
  },
  {
   "cell_type": "code",
   "execution_count": null,
   "metadata": {},
   "outputs": [],
   "source": [
    "data_frame['Value'].describe()"
   ]
  },
  {
   "cell_type": "code",
   "execution_count": null,
   "metadata": {},
   "outputs": [],
   "source": [
    "# Obtener los promedios anuales\n",
    "data_agrupada = data_frame.groupby(data_frame['fecha'].dt.year)\n",
    "data_agrupada.mean()"
   ]
  },
  {
   "cell_type": "code",
   "execution_count": null,
   "metadata": {},
   "outputs": [],
   "source": [
    "#data_agrupada[data_agrupada[0] >= 2005]\n",
    "#data_agrupada = pd.DataFrame(data_agrupada)\n",
    "#data_agrupada\n",
    "# Graficas las medias anuales, considerando desde el 2005 en adelante\n",
    "data_agrupada.mean().plot(kind = 'bar')"
   ]
  },
  {
   "cell_type": "code",
   "execution_count": null,
   "metadata": {},
   "outputs": [],
   "source": [
    "# https://datacarpentry.org/python-ecology-lesson-es/02-starting-with-data/"
   ]
  }
 ],
 "metadata": {
  "kernelspec": {
   "display_name": "Python 3",
   "language": "python",
   "name": "python3"
  },
  "language_info": {
   "codemirror_mode": {
    "name": "ipython",
    "version": 3
   },
   "file_extension": ".py",
   "mimetype": "text/x-python",
   "name": "python",
   "nbconvert_exporter": "python",
   "pygments_lexer": "ipython3",
   "version": "3.8.8"
  }
 },
 "nbformat": 4,
 "nbformat_minor": 4
}
