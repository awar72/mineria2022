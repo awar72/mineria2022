{
 "cells": [
  {
   "cell_type": "code",
   "execution_count": 1,
   "id": "659ed856",
   "metadata": {},
   "outputs": [
    {
     "name": "stdout",
     "output_type": "stream",
     "text": [
      "<pandas.core.groupby.generic.DataFrameGroupBy object at 0x7fc322eaff10>\n",
      "<class 'pandas.core.groupby.generic.DataFrameGroupBy'>\n"
     ]
    }
   ],
   "source": [
    "import pandas as pd\n",
    "fruit_list = [ ('Orange', 34, 'Yes' ) ,\n",
    "             ('Mango', 24, 'No' ) ,\n",
    "             ('banana', 14, 'No' ) ,\n",
    "             ('Apple', 44, 'Yes' ) ,\n",
    "             ('Pineapple', 64, 'No') ,\n",
    "             ('Kiwi', 84, 'Yes')  ]\n",
    "\n",
    "df = pd.DataFrame(fruit_list, columns = ['Name' , 'Price', 'In_Stock']) \n",
    "grouped_df = df.groupby('In_Stock')\n",
    "print(grouped_df)\n",
    "print(type(grouped_df))"
   ]
  },
  {
   "cell_type": "code",
   "execution_count": 4,
   "id": "733733f6",
   "metadata": {},
   "outputs": [
    {
     "data": {
      "text/html": [
       "<div>\n",
       "<style scoped>\n",
       "    .dataframe tbody tr th:only-of-type {\n",
       "        vertical-align: middle;\n",
       "    }\n",
       "\n",
       "    .dataframe tbody tr th {\n",
       "        vertical-align: top;\n",
       "    }\n",
       "\n",
       "    .dataframe thead th {\n",
       "        text-align: right;\n",
       "    }\n",
       "</style>\n",
       "<table border=\"1\" class=\"dataframe\">\n",
       "  <thead>\n",
       "    <tr style=\"text-align: right;\">\n",
       "      <th></th>\n",
       "      <th>Name</th>\n",
       "      <th>Price</th>\n",
       "      <th>In_Stock</th>\n",
       "    </tr>\n",
       "  </thead>\n",
       "  <tbody>\n",
       "    <tr>\n",
       "      <th>0</th>\n",
       "      <td>Orange</td>\n",
       "      <td>34</td>\n",
       "      <td>Yes</td>\n",
       "    </tr>\n",
       "    <tr>\n",
       "      <th>1</th>\n",
       "      <td>Mango</td>\n",
       "      <td>24</td>\n",
       "      <td>No</td>\n",
       "    </tr>\n",
       "    <tr>\n",
       "      <th>2</th>\n",
       "      <td>banana</td>\n",
       "      <td>14</td>\n",
       "      <td>No</td>\n",
       "    </tr>\n",
       "    <tr>\n",
       "      <th>3</th>\n",
       "      <td>Apple</td>\n",
       "      <td>44</td>\n",
       "      <td>Yes</td>\n",
       "    </tr>\n",
       "    <tr>\n",
       "      <th>4</th>\n",
       "      <td>Pineapple</td>\n",
       "      <td>64</td>\n",
       "      <td>No</td>\n",
       "    </tr>\n",
       "    <tr>\n",
       "      <th>5</th>\n",
       "      <td>Kiwi</td>\n",
       "      <td>84</td>\n",
       "      <td>Yes</td>\n",
       "    </tr>\n",
       "  </tbody>\n",
       "</table>\n",
       "</div>"
      ],
      "text/plain": [
       "        Name  Price In_Stock\n",
       "0     Orange     34      Yes\n",
       "1      Mango     24       No\n",
       "2     banana     14       No\n",
       "3      Apple     44      Yes\n",
       "4  Pineapple     64       No\n",
       "5       Kiwi     84      Yes"
      ]
     },
     "execution_count": 4,
     "metadata": {},
     "output_type": "execute_result"
    }
   ],
   "source": [
    "grouped_df.head()"
   ]
  },
  {
   "cell_type": "code",
   "execution_count": 5,
   "id": "eec0f58c",
   "metadata": {},
   "outputs": [
    {
     "name": "stdout",
     "output_type": "stream",
     "text": [
      "            Name  Price\n",
      "In_Stock               \n",
      "No         Mango     24\n",
      "Yes       Orange     34\n"
     ]
    }
   ],
   "source": [
    "print(grouped_df.first())"
   ]
  },
  {
   "cell_type": "code",
   "execution_count": 6,
   "id": "78b0206d",
   "metadata": {},
   "outputs": [
    {
     "name": "stdout",
     "output_type": "stream",
     "text": [
      "     Name  Price In_Stock\n",
      "0  Orange     34      Yes\n",
      "3   Apple     44      Yes\n",
      "5    Kiwi     84      Yes\n"
     ]
    }
   ],
   "source": [
    "print(grouped_df.get_group('Yes'))"
   ]
  },
  {
   "cell_type": "code",
   "execution_count": 20,
   "id": "1db24c27",
   "metadata": {},
   "outputs": [
    {
     "name": "stdout",
     "output_type": "stream",
     "text": [
      "        Name  Price In_Stock\n",
      "1      Mango     24       No\n",
      "2     banana     14       No\n",
      "4  Pineapple     64       No\n",
      "     Name  Price In_Stock\n",
      "0  Orange     34      Yes\n",
      "3   Apple     44      Yes\n",
      "5    Kiwi     84      Yes\n"
     ]
    }
   ],
   "source": [
    "for nombre, datos in grouped_df:\n",
    "    print (nombre)\n",
    "    print (datos)"
   ]
  },
  {
   "cell_type": "code",
   "execution_count": 9,
   "id": "62da309e",
   "metadata": {},
   "outputs": [
    {
     "name": "stdout",
     "output_type": "stream",
     "text": [
      "                        Name  Price\n",
      "In_Stock Supplier                  \n",
      "No       ABC           Mango     24\n",
      "         XYZ       Pineapple     64\n",
      "Yes      ABC          Orange     34\n",
      "         XYZ           Apple     44\n"
     ]
    }
   ],
   "source": [
    "fruit_list2 = [ ('Orange', 34, 'Yes' ,'ABC') ,\n",
    "             ('Mango', 24, 'No','ABC' ) ,\n",
    "             ('banana', 14, 'No','ABC' ) ,\n",
    "             ('Apple', 44, 'Yes',\"XYZ\" ) ,\n",
    "             ('Pineapple', 64, 'No',\"XYZ\") ,\n",
    "             ('Kiwi', 84, 'Yes',\"XYZ\")  ]\n",
    "df2 = pd.DataFrame(fruit_list2, columns = ['Name' , 'Price', 'In_Stock',\"Supplier\"]) \n",
    "grouped_df2 = df2.groupby(['In_Stock', 'Supplier']) \n",
    "  \n",
    "print(grouped_df2.first())"
   ]
  },
  {
   "cell_type": "code",
   "execution_count": 10,
   "id": "9b1d52d3",
   "metadata": {},
   "outputs": [
    {
     "name": "stdout",
     "output_type": "stream",
     "text": [
      "MultiIndex([( 'No', 'ABC'),\n",
      "            ( 'No', 'XYZ'),\n",
      "            ('Yes', 'ABC'),\n",
      "            ('Yes', 'XYZ')],\n",
      "           names=['In_Stock', 'Supplier'])\n"
     ]
    }
   ],
   "source": [
    "print(grouped_df2.first().index)"
   ]
  },
  {
   "cell_type": "code",
   "execution_count": 23,
   "id": "fb11fc04",
   "metadata": {},
   "outputs": [
    {
     "data": {
      "text/plain": [
       "<pandas.core.groupby.generic.DataFrameGroupBy object at 0x7fc324791070>"
      ]
     },
     "execution_count": 23,
     "metadata": {},
     "output_type": "execute_result"
    }
   ],
   "source": [
    "grouped_df2<pa"
   ]
  }
 ],
 "metadata": {
  "kernelspec": {
   "display_name": "Python 3",
   "language": "python",
   "name": "python3"
  },
  "language_info": {
   "codemirror_mode": {
    "name": "ipython",
    "version": 3
   },
   "file_extension": ".py",
   "mimetype": "text/x-python",
   "name": "python",
   "nbconvert_exporter": "python",
   "pygments_lexer": "ipython3",
   "version": "3.8.8"
  }
 },
 "nbformat": 4,
 "nbformat_minor": 5
}
