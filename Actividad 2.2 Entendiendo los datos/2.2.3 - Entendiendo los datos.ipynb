{
 "cells": [
  {
   "cell_type": "markdown",
   "metadata": {},
   "source": [
    "# Análisis exploratorio de los datos\n",
    "\n",
    "![Mineria de datos](data-mining.jpg  \"Metodología proyectos de minería\") \n",
    "\n",
    "<center>\n",
    "(Fuente:https://www.proglobalbusinesssolutions.com/wp-content/uploads/2017/12/data-mining.jpg/)\n",
    "</center>\n",
    "\n",
    "La recopilación inicial de datos y cifras se realiza a partir de todas las fuentes disponibles. En la fase para **entender los datos** se examinan las propiedades del set de datos que se tiene. Luego, la calidad de la información se verifica mediante respuestas a ciertas preguntas relevantes sobre la integridad y precisión del material."
   ]
  },
  {
   "cell_type": "code",
   "execution_count": null,
   "metadata": {},
   "outputs": [],
   "source": [
    "import pandas as pd\n",
    "import numpy as np\n",
    "import matplotlib.pyplot as plt"
   ]
  },
  {
   "cell_type": "markdown",
   "metadata": {},
   "source": [
    "## Carga de datos"
   ]
  },
  {
   "cell_type": "code",
   "execution_count": null,
   "metadata": {},
   "outputs": [],
   "source": [
    "# Carga de datos\n",
    "data_frame = pd.read_csv(\"Food_Preference.csv\")\n",
    "data_frame.head()"
   ]
  },
  {
   "cell_type": "markdown",
   "metadata": {},
   "source": [
    "### Consideraciones\n",
    "\n",
    "1. El set de datos está formado por filas y columnas. Las filas corresponden a las observaciones y las columnas son las características (features, variables). \n",
    "\n",
    "2. Cada característica puede ser numérica o catgórica; particularmente, muchos algoritmos requieren que las columnas con las cuales se quiere trabajar deben ser numéricas. Lo anterior lleva a un proceso, eventualmente, de transformación de los datos.\n",
    "\n",
    "## Es hora de comenzar con la exploración de los datos ..."
   ]
  },
  {
   "cell_type": "markdown",
   "metadata": {},
   "source": [
    "## Tamaño del dataset"
   ]
  },
  {
   "cell_type": "code",
   "execution_count": null,
   "metadata": {},
   "outputs": [],
   "source": [
    "data_frame.shape"
   ]
  },
  {
   "cell_type": "code",
   "execution_count": null,
   "metadata": {},
   "outputs": [],
   "source": [
    "len(data_frame)"
   ]
  },
  {
   "cell_type": "markdown",
   "metadata": {},
   "source": [
    "## Tipos de datos de las columnas"
   ]
  },
  {
   "cell_type": "code",
   "execution_count": null,
   "metadata": {},
   "outputs": [],
   "source": [
    "# Revisión de los tipos de datos\n",
    "data_frame.dtypes"
   ]
  },
  {
   "cell_type": "markdown",
   "metadata": {},
   "source": [
    "### Tratamiento de valores nulos"
   ]
  },
  {
   "cell_type": "code",
   "execution_count": null,
   "metadata": {},
   "outputs": [],
   "source": [
    "# Valores nulos\n",
    "for feature in data_frame.columns:\n",
    "    print('Total de valores nulos de', feature, '=', data_frame[feature].isna().sum())"
   ]
  },
  {
   "cell_type": "markdown",
   "metadata": {},
   "source": [
    "### Técnicas de tratamiento de nulos\n",
    "\n",
    "1. Eliminar las observaciones (opción simple)\n",
    "2. Imputación (mejor opción). Acá se rellenan los valores vacíos con algún valor, puede ser el promedio del valor de la columna. Puede ser el valor más repetido en el caso de una variable categórica.\n",
    "3. Una extensión de la imputación. Se agrega una columna indicando que el valor ha sido reemplazado, de esta forma, se mantiene \"identificados\" a los valores nulos\n"
   ]
  },
  {
   "cell_type": "code",
   "execution_count": null,
   "metadata": {},
   "outputs": [],
   "source": [
    "data_frame.isnull()"
   ]
  },
  {
   "cell_type": "code",
   "execution_count": null,
   "metadata": {},
   "outputs": [],
   "source": [
    "data_frame.isnull().any()"
   ]
  },
  {
   "cell_type": "code",
   "execution_count": null,
   "metadata": {},
   "outputs": [],
   "source": [
    "data_frame.isnull().any(1)"
   ]
  },
  {
   "cell_type": "code",
   "execution_count": null,
   "metadata": {},
   "outputs": [],
   "source": [
    "data_frame[data_frame.isnull().any(1)]"
   ]
  },
  {
   "cell_type": "code",
   "execution_count": null,
   "metadata": {},
   "outputs": [],
   "source": [
    "import statistics as stat\n",
    "moda=stat.mode(data_frame[\"Gender\"])\n",
    "print(moda)"
   ]
  },
  {
   "cell_type": "code",
   "execution_count": null,
   "metadata": {},
   "outputs": [],
   "source": [
    "data_frame[\"Gender\"]=data_frame[\"Gender\"].fillna(moda)"
   ]
  },
  {
   "cell_type": "code",
   "execution_count": null,
   "metadata": {},
   "outputs": [],
   "source": [
    "# Aplica la técnica 1 de tratamiento de nulos\n",
    "data_frame = data_frame.dropna()\n",
    "data_frame.shape"
   ]
  },
  {
   "cell_type": "markdown",
   "metadata": {},
   "source": [
    "## Exploración de valores "
   ]
  },
  {
   "cell_type": "markdown",
   "metadata": {},
   "source": [
    "### Algunas estadísticas"
   ]
  },
  {
   "cell_type": "code",
   "execution_count": null,
   "metadata": {},
   "outputs": [],
   "source": [
    "data_frame.describe()"
   ]
  },
  {
   "cell_type": "markdown",
   "metadata": {},
   "source": [
    "La función anterior obtiene las estadísticas de una sola columna (en este caso hay 8), aparece solo esa porque es la única columna numérica.\n",
    "\n",
    "La interpretación:\n",
    "\n",
    "1. Hay 284 valores en la columna\n",
    "2. El promedio corresponde a 30.65\n",
    "3. La desviación estándar es de 11.24, lo que quiere decir, la edad de las observaciones varía dentro del intervalo [19.41, 41.89] [mean - std; mean + std]\n",
    "4. Valor mínimo de la columna es 8\n",
    "5. El 25% de las observaciones es menor a 24\n",
    "6. El 50% de las observaciones es menor a 28\n",
    "7. El 75% de las observaciones es menor a 37\n",
    "8. El valor máximo de la columna es 80"
   ]
  },
  {
   "cell_type": "markdown",
   "metadata": {},
   "source": [
    "### Una alternativa\n",
    "\n",
    "Lo anterior igual se puede lograr de forma individual"
   ]
  },
  {
   "cell_type": "code",
   "execution_count": null,
   "metadata": {},
   "outputs": [],
   "source": [
    "print('Mínimo:',data_frame['Age'].min())\n",
    "print('Máximo:',data_frame['Age'].max())\n",
    "print('Promedio:',data_frame['Age'].mean())\n",
    "print('STD:',data_frame['Age'].std())\n",
    "print(data_frame.Age.quantile([.25, .5, .75]))\n",
    "print('*******')\n",
    "print('Mínimo:',min(data_frame['Age']))\n",
    "print('Máximo:',max(data_frame['Age']))"
   ]
  },
  {
   "cell_type": "code",
   "execution_count": null,
   "metadata": {},
   "outputs": [],
   "source": [
    "data_frame.describe(include=\"all\")"
   ]
  },
  {
   "cell_type": "code",
   "execution_count": null,
   "metadata": {},
   "outputs": [],
   "source": [
    "# Considerando solo las columnas de tipo object\n",
    "import numpy as np\n",
    "data_frame.describe(include=[np.object])"
   ]
  },
  {
   "cell_type": "markdown",
   "metadata": {},
   "source": [
    "## Agrupaciones de datos "
   ]
  },
  {
   "cell_type": "code",
   "execution_count": null,
   "metadata": {},
   "outputs": [],
   "source": [
    "# Para comprobar los resultados anteriores\n",
    "data_frame.groupby(data_frame.Gender).count()"
   ]
  },
  {
   "cell_type": "code",
   "execution_count": null,
   "metadata": {},
   "outputs": [],
   "source": [
    "data_frame.groupby('Gender').count()"
   ]
  },
  {
   "cell_type": "code",
   "execution_count": null,
   "metadata": {},
   "outputs": [],
   "source": [
    "data_frame.groupby('Gender')[\"Food\"].count()"
   ]
  },
  {
   "cell_type": "code",
   "execution_count": null,
   "metadata": {},
   "outputs": [],
   "source": [
    "# Obtener total de pedidos considerando tipo de comida y género\n",
    "data_frame.groupby('Gender')['Food'].value_counts()"
   ]
  },
  {
   "cell_type": "code",
   "execution_count": null,
   "metadata": {},
   "outputs": [],
   "source": [
    "# Obtener total de alternativas de postre por género\n",
    "data_frame.groupby('Gender')['Dessert'].value_counts()"
   ]
  },
  {
   "cell_type": "code",
   "execution_count": null,
   "metadata": {},
   "outputs": [],
   "source": [
    "# ¿Quiénes piden más postres, los hombres o las mujeres?\n",
    "data_frame[data_frame.Dessert == 'Yes'].groupby('Gender')[\"Dessert\"].value_counts()"
   ]
  },
  {
   "cell_type": "markdown",
   "metadata": {},
   "source": [
    "Claramente la pregunta anterior es más fácil de responder utilizando gráficos ..."
   ]
  },
  {
   "cell_type": "markdown",
   "metadata": {},
   "source": [
    "## También es posible graficar ..."
   ]
  },
  {
   "cell_type": "code",
   "execution_count": null,
   "metadata": {},
   "outputs": [],
   "source": [
    "# Visualizamos de forma rápida las características de entrada, eliminando las columnas que no interesan\n",
    "data_frame['Age'].hist()\n",
    "plt.show()"
   ]
  },
  {
   "cell_type": "code",
   "execution_count": null,
   "metadata": {
    "scrolled": true
   },
   "outputs": [],
   "source": [
    "# Visualizamos de forma rápida las características de entrada, eliminando las columnas que no interesan\n",
    "data_frame.drop(['Timestamp', 'Participant_ID'],1).hist()\n",
    "plt.show()"
   ]
  },
  {
   "cell_type": "markdown",
   "metadata": {},
   "source": [
    "Nuevamente, solo considera las columnas que son numéricas. La pregunta válida acá es, ¿cómo se puede graficar por ejemplo, la columna Food?\n",
    "\n",
    "La respuesta es variada a la pregunta, sin embargo, una alternativa es la que se indica a continuación:"
   ]
  },
  {
   "cell_type": "code",
   "execution_count": null,
   "metadata": {},
   "outputs": [],
   "source": [
    "data_frame['Food'].unique()"
   ]
  },
  {
   "cell_type": "code",
   "execution_count": null,
   "metadata": {},
   "outputs": [],
   "source": [
    "data_frame['Food'].value_counts()"
   ]
  },
  {
   "cell_type": "code",
   "execution_count": null,
   "metadata": {},
   "outputs": [],
   "source": [
    "data_frame['Food'].value_counts().tolist()"
   ]
  },
  {
   "cell_type": "code",
   "execution_count": null,
   "metadata": {},
   "outputs": [],
   "source": [
    "def getGraficoBarras(label_x, label_y, title, feature):\n",
    "    x_values = data_frame[feature].unique()\n",
    "    y_values = data_frame[feature].value_counts().tolist()\n",
    "    plt.bar(x_values, y_values)\n",
    "    plt.title(title)\n",
    "    plt.xlabel(label_x)\n",
    "    plt.ylabel(label_y)\n",
    "    plt.show()\n",
    "\n",
    "getGraficoBarras('Tipos de comida', 'Nro.Obsevaciones', \"Total de observaciones por tipo de comida\", 'Food')"
   ]
  },
  {
   "cell_type": "code",
   "execution_count": null,
   "metadata": {},
   "outputs": [],
   "source": [
    "tipos = data_frame['Food'].unique()\n",
    "total = data_frame['Food'].value_counts().tolist()\n",
    "plt.pie(total, labels=tipos, autopct='%1.1f%%', shadow=True, startangle=90) \n",
    "plt.title('Distribución de tipos de comida')\n",
    "plt.show()"
   ]
  },
  {
   "cell_type": "code",
   "execution_count": null,
   "metadata": {},
   "outputs": [],
   "source": [
    "tipos = data_frame['Food'].unique()\n",
    "total = data_frame['Food'].value_counts().tolist()\n",
    "explode = [0.4 if total[0] == max(total) else 0, 0.4 if total[1] == max(total) else 0] # Destacar algunos \n",
    "plt.pie(total, labels=tipos, explode = explode, autopct='%1.1f%%', shadow=True, startangle=90) \n",
    "plt.title('Distribución de tipos de comida')\n",
    "plt.show()"
   ]
  },
  {
   "cell_type": "markdown",
   "metadata": {},
   "source": [
    "Ahora que ya se conoce como se genera un gráfico de torta, entonces se puede, responder (gráficamente) a la pregunta acerca de ¿Quiénes piden más postres, los hombres o las mujeres?"
   ]
  },
  {
   "cell_type": "code",
   "execution_count": null,
   "metadata": {},
   "outputs": [],
   "source": [
    "# Respondiendo, gráficamente a: ¿Quiénes piden más postres, los hombres o las mujeres?\n",
    "df_pie = pd.DataFrame(data_frame[data_frame.Dessert == 'Yes'].groupby('Gender')['Dessert'].count())\n",
    "colores = [\"#EE6055\",\"#60D394\"]\n",
    "plt.pie(np.array(df_pie).ravel(), labels=[df_pie.index[0],df_pie.index[1]], \n",
    "        autopct='%1.1f%%', shadow=True, startangle=90, colors = colores) \n",
    "plt.title('Distribución por género de solicitud de postres')\n",
    "plt.show()"
   ]
  },
  {
   "cell_type": "code",
   "execution_count": null,
   "metadata": {},
   "outputs": [],
   "source": [
    "df_pie"
   ]
  },
  {
   "cell_type": "markdown",
   "metadata": {},
   "source": [
    "### Manejando la carta de colores\n",
    "\n",
    "Más información en: https://matplotlib.org/3.1.0/tutorials/colors/colormaps.html"
   ]
  },
  {
   "cell_type": "code",
   "execution_count": null,
   "metadata": {},
   "outputs": [],
   "source": [
    "from matplotlib import cm\n",
    "from matplotlib import colors\n",
    "df_pie = pd.DataFrame(data_frame[data_frame.Dessert == 'Yes'].groupby('Gender')['Dessert'].count())\n",
    "normdata = colors.Normalize(min(df_pie.Dessert), max(df_pie.Dessert))\n",
    "colormap = cm.get_cmap(\"Blues\")\n",
    "colores =colormap(normdata(np.array(df_pie).ravel()))\n",
    "plt.pie(np.array(df_pie).ravel(), labels=[df_pie.index[0],df_pie.index[1]], \n",
    "        autopct='%1.1f%%', shadow=True, startangle=90, colors = colores) \n",
    "plt.title('Distribución por género de solicitud de postres')\n",
    "plt.show()"
   ]
  },
  {
   "cell_type": "code",
   "execution_count": null,
   "metadata": {},
   "outputs": [],
   "source": [
    "# Gráfico de densidad de edades\n",
    "\n",
    "x_values = data_frame.Age.unique()\n",
    "y_values = data_frame.Age.value_counts().tolist()\n",
    "plt.scatter(x_values, y_values, marker='o');\n",
    "#plt.plot(x_values, y_values)\n",
    "plt.title('Densidad de edades')\n",
    "plt.xlabel('Edad')\n",
    "plt.ylabel('Frecuencia')\n",
    "plt.show()"
   ]
  }
 ],
 "metadata": {
  "kernelspec": {
   "display_name": "Python 3",
   "language": "python",
   "name": "python3"
  },
  "language_info": {
   "codemirror_mode": {
    "name": "ipython",
    "version": 3
   },
   "file_extension": ".py",
   "mimetype": "text/x-python",
   "name": "python",
   "nbconvert_exporter": "python",
   "pygments_lexer": "ipython3",
   "version": "3.8.8"
  }
 },
 "nbformat": 4,
 "nbformat_minor": 4
}
