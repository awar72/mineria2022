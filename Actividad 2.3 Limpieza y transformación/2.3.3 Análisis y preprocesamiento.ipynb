{
 "cells": [
  {
   "cell_type": "markdown",
   "metadata": {},
   "source": [
    "# Análisis y preprocesamiento\n",
    "\n",
    "En este caso se va a trabajar con un set de datos que contiene las donaciones de una organización sin fines de lucro con la lista de correo de los donantes de sus campañas anteriores. \n",
    "\n",
    "Se dispone de un archivo .csv y de un archivo .txt con la descripción del conjunto de datos.\n",
    "\n",
    "Resulta importante siempre coocer el contexto del negocio y las características del set de datos del que se dispone.\n",
    "\n",
    "Existen sitios (como http://www.kaggle.com) donde se dispone de conjuntos de datos para ocupar y, en muchos casos, se encontrará en el mismo lugar una descripción que ayudará a entender qué es lo que se está entregando."
   ]
  },
  {
   "cell_type": "code",
   "execution_count": null,
   "metadata": {},
   "outputs": [],
   "source": [
    "import pandas as pd\n",
    "import numpy as np\n",
    "import matplotlib.pyplot as plt"
   ]
  },
  {
   "cell_type": "code",
   "execution_count": null,
   "metadata": {},
   "outputs": [],
   "source": [
    "# Carga de datos\n",
    "data_frame = pd.read_csv(\"DataONG.csv\", low_memory=False)\n",
    "data_frame.head()"
   ]
  },
  {
   "cell_type": "markdown",
   "metadata": {},
   "source": [
    "## Antes de continuar ...\n",
    "\n",
    "Se sugiere que revise el archivo TXT para conocer (aunque sea de manera superficial) por ahora la información de la cual se dispone"
   ]
  },
  {
   "cell_type": "markdown",
   "metadata": {},
   "source": [
    "## Análisis general\n",
    "\n",
    "1. Conocer la cantidad de obsevaciones y la cantidad de características\n",
    "2. Averiguar si existen datos nulos\n",
    "3. Conocer la cantidad de columnas categóricas y numéricas (recuerde que muchos algoritmos trabajan solo con columnas numéricas y, eventualmente, hay que transformarlas)"
   ]
  },
  {
   "cell_type": "code",
   "execution_count": null,
   "metadata": {},
   "outputs": [],
   "source": [
    "data_frame.shape"
   ]
  },
  {
   "cell_type": "code",
   "execution_count": null,
   "metadata": {},
   "outputs": [],
   "source": [
    "data_frame.isnull().any().any()"
   ]
  },
  {
   "cell_type": "code",
   "execution_count": null,
   "metadata": {},
   "outputs": [],
   "source": [
    "# Agrupación de las columnas por tipo de datos\n",
    "tipos = data_frame.columns.to_series().groupby(data_frame.dtypes).groups\n",
    "\n",
    "# Conociendo la lista de columnas categóricas\n",
    "ctext = tipos[np.dtype('object')]\n",
    "len(ctext)  # cantidad de columnas con datos categóricos. "
   ]
  },
  {
   "cell_type": "code",
   "execution_count": null,
   "metadata": {},
   "outputs": [],
   "source": [
    "# Conociendo la lista de columnas numéricas\n",
    "columnas = data_frame.columns  \n",
    "cnum = list(set(columnas) - set(ctext))\n",
    "len(cnum)"
   ]
  },
  {
   "cell_type": "markdown",
   "metadata": {},
   "source": [
    "## Tratamiento de los nulos\n",
    "\n",
    "En el análisis anterior quedó en evidencia la existencia de valores nulos, razón por la cual hay que tratarlos. "
   ]
  },
  {
   "cell_type": "code",
   "execution_count": null,
   "metadata": {},
   "outputs": [],
   "source": [
    "# Completando valores faltantes datos cuantititavos\n",
    "for columna in cnum:\n",
    "    mean = data_frame[columna].mean()\n",
    "    data_frame[columna] = data_frame[columna].fillna(mean)"
   ]
  },
  {
   "cell_type": "code",
   "execution_count": null,
   "metadata": {},
   "outputs": [],
   "source": [
    "# Completando valores faltantes datos categóricos\n",
    "for columna in ctext:\n",
    "    mode = data_frame[columna].mode()[0]\n",
    "    data_frame[columna] = data_frame[columna].fillna(mode)"
   ]
  },
  {
   "cell_type": "code",
   "execution_count": null,
   "metadata": {},
   "outputs": [],
   "source": [
    "# Se vuelve a comprobar los nulos\n",
    "data_frame.isnull().any().any()"
   ]
  },
  {
   "cell_type": "code",
   "execution_count": null,
   "metadata": {},
   "outputs": [],
   "source": [
    "# Guardando el dataset preprocesado\n",
    "# Save transform datasets\n",
    "data_frame.to_csv(\"DataONG_procesado.csv\", index=False)"
   ]
  },
  {
   "cell_type": "code",
   "execution_count": null,
   "metadata": {},
   "outputs": [],
   "source": [
    "# Calculando el porcentaje de donantes sobre toda la base de datos\n",
    "porcent_donantes = (data_frame[data_frame.DONOR_AMOUNT > 0]['DONOR_AMOUNT'].count() * 1.0/ data_frame['DONOR_AMOUNT'].count()) * 100.0\n",
    "print(\"El procentaje de donantes es {0:.2f}%\"\n",
    "      .format(porcent_donantes))"
   ]
  },
  {
   "cell_type": "code",
   "execution_count": null,
   "metadata": {},
   "outputs": [],
   "source": [
    "# Gráfico de tortas del porcentaje de donantes\n",
    "# Agrupando por DONOR_FLAG\n",
    "donantes = data_frame.groupby('DONOR_FLAG').IDX.count() \n",
    "# Creando las leyendas del grafico.\n",
    "labels = [ 'Donante\\n' + str(round(x * 1.0 / donantes.sum() * \n",
    "                            100.0, 2)) + '%'  for x in donantes ]\n",
    "labels[0] = 'No ' + labels[0]\n",
    "\n",
    "plt.pie(donantes, labels=labels)\n",
    "plt.title('Porcion de donantes')\n",
    "plt.show()"
   ]
  },
  {
   "cell_type": "markdown",
   "metadata": {},
   "source": [
    "### Análisis del gráfico\n",
    "\n",
    "Se ve que el porcentaje de personas que fueron donantes en el pasado es realmente muy bajo, solo un 5.08% del total de personas (2423). \n",
    "\n",
    "Este es un dato importante a tener en cuenta si se pretende, por ejemplo, clasificar; ya que al existir tanta diferencia entre las clases a clasificar, esto puede afectar considerablemente al algoritmo de aprendizaje. \n",
    "\n",
    "Conviene ahora explorar con más detalle a este grupo pequeño de personas que fueron donantes; veamos por ejemplo como se dividen de acuerdo a la cantidad de dinero donado."
   ]
  },
  {
   "cell_type": "markdown",
   "metadata": {},
   "source": [
    "## Trabajando con filtro"
   ]
  },
  {
   "cell_type": "code",
   "execution_count": null,
   "metadata": {},
   "outputs": [],
   "source": [
    "# Creando subset con solo los donates\n",
    "data_donantes = data_frame[data_frame.DONOR_AMOUNT > 0]\n",
    "\n",
    "data_donantes.shape"
   ]
  },
  {
   "cell_type": "code",
   "execution_count": null,
   "metadata": {},
   "outputs": [],
   "source": [
    "# Analizando el importe de donanciones\n",
    "# Creando un segmentos de montos\n",
    "monto_segm = pd.cut(data_donantes['DONOR_AMOUNT'], [0, 10,  20, 30, 40, 50, 60, 100, 200])\n",
    "# Creando el grafico de barras desde pandas\n",
    "plot = pd.value_counts(monto_segm).plot(kind='bar', title='Montos de donación')\n",
    "plot.set_ylabel('Nro. de donantes')\n",
    "plot.set_xlabel('Rango de montos')\n",
    "plt.show()"
   ]
  },
  {
   "cell_type": "markdown",
   "metadata": {},
   "source": [
    "### Comentarios del gráfico\n",
    "\n",
    "Es posible apreciar que la mayor cantidad de montos de donaciones se encuentra entre el rango 0 y 30"
   ]
  },
  {
   "cell_type": "code",
   "execution_count": null,
   "metadata": {},
   "outputs": [],
   "source": [
    "# Agrupación por segmento según monto donado.\n",
    "pd.value_counts(monto_segm)"
   ]
  },
  {
   "cell_type": "markdown",
   "metadata": {},
   "source": [
    "### Responder a algunas preguntas"
   ]
  },
  {
   "cell_type": "markdown",
   "metadata": {},
   "source": [
    "### ¿Cuál es el promedio de donaciones?"
   ]
  },
  {
   "cell_type": "code",
   "execution_count": null,
   "metadata": {},
   "outputs": [],
   "source": [
    "# Monto de donación promedio\n",
    "data_donantes['DONOR_AMOUNT'].mean()"
   ]
  },
  {
   "cell_type": "code",
   "execution_count": null,
   "metadata": {},
   "outputs": [],
   "source": [
    "# Gráfico de cajas del importe de donación\n",
    "plt.boxplot(list(data_donantes['DONOR_AMOUNT']))\n",
    "plt.title('Montos de donación')\n",
    "plt.show()"
   ]
  },
  {
   "cell_type": "markdown",
   "metadata": {},
   "source": [
    "### Analizando el gráfico\n",
    "\n",
    "Este análisis muestra que la mayor cantidad de donaciones caen en un rango de importes entre 0 y 30 (tal y como se había eomentado antes), siendo la donación promedio 15.60. También es posible ver que donaciones que superen un importe de 50 son casos realmente poco frecuentes, por lo que constituyen valores atípicos y sería prudente eliminar estos casos al entrenar el modelo para que no distorsionen los resultados.\n",
    "\n",
    "Otra exploración interesante que se podría realizar sobre el set de datos relacionado con los donantes, es ver cómo se divide este grupo en términos de género y edad."
   ]
  },
  {
   "cell_type": "markdown",
   "metadata": {},
   "source": [
    "### ¿Cuál es la distribución de los donantes por género?"
   ]
  },
  {
   "cell_type": "code",
   "execution_count": null,
   "metadata": {},
   "outputs": [],
   "source": [
    "# Gráfico del género de los donantes\n",
    "data_donantes.groupby('GENDER').size().plot(kind='bar')\n",
    "plt.title('Distribución por género')\n",
    "plt.show()"
   ]
  },
  {
   "cell_type": "markdown",
   "metadata": {},
   "source": [
    "### ¿Cuál es la distribución de las donaciones según el género?"
   ]
  },
  {
   "cell_type": "code",
   "execution_count": null,
   "metadata": {},
   "outputs": [],
   "source": [
    "# Donaciones segùn el género\n",
    "data_donantes[(data_donantes.DONOR_AMOUNT <= 50)\n",
    "             & (data_donantes.GENDER.isin(['F', 'M'])\n",
    "               )][['DONOR_AMOUNT', 'GENDER']].boxplot(by='GENDER')\n",
    "plt.title('Donantes según género')\n",
    "plt.show()"
   ]
  },
  {
   "cell_type": "code",
   "execution_count": null,
   "metadata": {},
   "outputs": [],
   "source": [
    "# Media de monto donado por mujeres\n",
    "data_donantes[data_donantes.GENDER == 'F'][['DONOR_AMOUNT']].mean()"
   ]
  },
  {
   "cell_type": "code",
   "execution_count": null,
   "metadata": {},
   "outputs": [],
   "source": [
    "# Media de monto donado por hombres\n",
    "data_donantes[data_donantes.GENDER == 'M'][['DONOR_AMOUNT']].mean()"
   ]
  },
  {
   "cell_type": "markdown",
   "metadata": {},
   "source": [
    "### Análisis de resultados\n",
    "\n",
    "Las mujeres suelen estar más propensas a donar, aunque donan un monto promedio menor (14.61) al que donan los hombres (16.82). \n",
    "\n",
    "Ahora se revisará el comportamiento de las donaciones respecto a la edad."
   ]
  },
  {
   "cell_type": "markdown",
   "metadata": {},
   "source": [
    "### ¿Cuál es la distribución de los donantes según edad?"
   ]
  },
  {
   "cell_type": "code",
   "execution_count": null,
   "metadata": {},
   "outputs": [],
   "source": [
    "# Distribución de la edad de los donantes\n",
    "data_donantes['AGE'].hist().set_title('Distribución de donantes según edad')\n",
    "plt.show()"
   ]
  },
  {
   "cell_type": "markdown",
   "metadata": {},
   "source": [
    "Para mejorar la visualización se genera el gráfico considerando rango de edades"
   ]
  },
  {
   "cell_type": "code",
   "execution_count": null,
   "metadata": {},
   "outputs": [],
   "source": [
    "# Agrupando la edad por rango de a 10\n",
    "rango_edades = pd.cut(data_donantes['AGE'], range(0, 100, 10))\n",
    "\n",
    "# Gráfico de barras de donaciones por edad\n",
    "pd.value_counts(rango_edades).plot(kind='bar', title='Donaciones por rango de edad')\n",
    "plt.show()"
   ]
  },
  {
   "cell_type": "markdown",
   "metadata": {},
   "source": [
    "### Análisis resultados\n",
    "\n",
    "En este último análisis es posible apreciar que la mayor cantidad de los donantes son individuos cuya edad se encuentra entre los 60 y 70 años, aunque la media de monto donado más alta la tienen las personas que van desde los 30 a los 60 años.\n",
    "\n",
    "### Trabajo futuro ...\n",
    "\n",
    "En las próximas experiencias es posible continuar con el ejemplo completando los restantes pasos que incluye un proyecto de **Minería de datos** hasta llegar al modelo y poder utilizarlo para, por ejemplo, realizar predicciones (selección de atributos - armado de modelo - entrenamiento - evaluación - métricas - predicción)."
   ]
  },
  {
   "cell_type": "code",
   "execution_count": null,
   "metadata": {},
   "outputs": [],
   "source": []
  }
 ],
 "metadata": {
  "kernelspec": {
   "display_name": "Python 3",
   "language": "python",
   "name": "python3"
  },
  "language_info": {
   "codemirror_mode": {
    "name": "ipython",
    "version": 3
   },
   "file_extension": ".py",
   "mimetype": "text/x-python",
   "name": "python",
   "nbconvert_exporter": "python",
   "pygments_lexer": "ipython3",
   "version": "3.7.6"
  }
 },
 "nbformat": 4,
 "nbformat_minor": 4
}
