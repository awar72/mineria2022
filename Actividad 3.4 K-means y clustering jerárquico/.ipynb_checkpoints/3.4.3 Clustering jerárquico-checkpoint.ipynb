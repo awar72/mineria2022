{
 "cells": [
  {
   "cell_type": "markdown",
   "metadata": {},
   "source": [
    "# Clustering jerárquico\n",
    "\n",
    "Es un algoritmo de aprendizaje automático no supervisado que se utiliza para agrupar puntos de datos sin etiquetar. Al igual que K-means, la agrupación jerárquica también agrupa los puntos de datos con características similares. En algunos casos, el resultado de la agrupación jerárquica y K-Means puede resultar similar. \n",
    "\n",
    "La técnica de agrupamiento puede ser muy útil cuando se trata de datos sin etiquetar. Dado que la mayoría de los datos en el mundo real no están etiquetados y la anotación de los datos tiene costos más altos.\n",
    "\n",
    "## Tipos de clustering jerárquico\n",
    "\n",
    "Hay dos tipos de agrupación jerárquica: Aglomerativa y Divisiva. \n",
    "\n",
    "**Aglomerativa** : los puntos de datos se agrupan utilizando un enfoque de abajo hacia arriba que comienza con puntos de datos individuales.\n",
    "\n",
    "**Dividiba**: se sigue un enfoque de arriba hacia abajo donde todos los puntos de datos se tratan como un gran conjunto y el proceso de agrupación implica dividir el único.\n",
    "\n",
    "## Pasos del algoritmo\n",
    "\n",
    "+ 1. Tratar cada punto de datos como un grupo. Por lo tanto, el número de grupos al comienzo será K, mientras que K es un número entero que representa el número de puntos de datos.\n",
    "+ 2. Formar un clúster uniendo los dos puntos de datos más cercanos que dan como resultado los clusters K-1.\n",
    "+ 3. Formar más grupos al unir los dos grupos más cercanos, lo que da como resultado grupos K-2.\n",
    "+ 4. Repetir los tres pasos anteriores hasta que se forme un grupo grande.\n",
    "+ 5. Una vez que se forma un solo clúster, los dendrogramas se utilizan para dividirse en varios clústeres, según el problema. \n",
    "\n",
    "Hay diferentes maneras de encontrar la distancia entre los grupos. La distancia en sí puede ser euclidiana o Manhattan. \n",
    "\n",
    "## Cómo medir la distancia entre dos grupos:\n",
    "\n",
    "+ Medir la distancia entre los puntos de cierre de dos grupos.\n",
    "+ Medir la distancia entre los puntos más lejanos de dos grupos.\n",
    "+ Medir la distancia entre los centroides de dos grupos.\n",
    "+ Medir la distancia entre todas las combinaciones posibles de puntos entre los dos grupos y considerar la media.\n",
    "\n",
    "## Uso de dendograma\n",
    "\n",
    "Anteriormente se mencionó que una vez que se forma un grupo grande por la combinación de grupos pequeños, se usan los dendrogramas del grupo para dividir el grupo en múltiples grupos de puntos de datos relacionados. "
   ]
  },
  {
   "cell_type": "markdown",
   "metadata": {},
   "source": [
    "## Explicación de dendograma"
   ]
  },
  {
   "cell_type": "code",
   "execution_count": 10,
   "metadata": {},
   "outputs": [],
   "source": [
    "import numpy as np\n",
    "\n",
    "X = np.array([[5,3],  \n",
    "    [10,15],\n",
    "    [15,12],\n",
    "    [24,10],\n",
    "    [30,30],\n",
    "    [85,70],\n",
    "    [71,80],\n",
    "    [60,78],\n",
    "    [70,55],\n",
    "    [80,91],])"
   ]
  },
  {
   "cell_type": "code",
   "execution_count": 11,
   "metadata": {},
   "outputs": [
    {
     "data": {
      "image/png": "[encoded data removed]",
      "text/plain": [
       "<Figure size 720x504 with 1 Axes>"
      ]
     },
     "metadata": {
      "needs_background": "light"
     },
     "output_type": "display_data"
    }
   ],
   "source": [
    "# Se trazan los puntos anteriores\n",
    "import matplotlib.pyplot as plt\n",
    "\n",
    "labels = range(1, 11)  \n",
    "plt.figure(figsize=(10, 7))  \n",
    "plt.subplots_adjust(bottom=0.1)  \n",
    "plt.scatter(X[:,0],X[:,1], label='True Position')\n",
    "\n",
    "for label, x, y in zip(labels, X[:, 0], X[:, 1]):  \n",
    "    plt.annotate(\n",
    "        label,\n",
    "        xy=(x, y), xytext=(-3, 3),\n",
    "        textcoords='offset points', ha='right', va='bottom')\n",
    "plt.show() "
   ]
  },
  {
   "cell_type": "markdown",
   "metadata": {},
   "source": [
    "### Análisis del gráfico \n",
    "\n",
    "A simple vista que los puntos de datos forman dos grupos: primero en la parte inferior izquierda que consiste en los puntos 1-5, mientras que el segundo en la parte superior derecha consiste en los puntos 6-10.\n",
    "\n",
    "Sin embargo, en el mundo real, es posible tener miles de puntos de datos en más de 2 dimensiones. En ese caso, no sería posible detectar grupos a simple vista. Esa la razón por la cual existen los algoritmos de clustering.\n",
    "\n",
    "Ahora se van a graficar los dendrogramas para el set de datos. La biblioteca scipy sirve para cumplir con el objetivo."
   ]
  },
  {
   "cell_type": "code",
   "execution_count": 13,
   "metadata": {},
   "outputs": [
    {
     "data": {
      "image/png": "[encoded data removed]",
      "text/plain": [
       "<Figure size 720x504 with 1 Axes>"
      ]
     },
     "metadata": {
      "needs_background": "light"
     },
     "output_type": "display_data"
    }
   ],
   "source": [
    "from scipy.cluster.hierarchy import dendrogram, linkage  \n",
    "from matplotlib import pyplot as plt\n",
    "\n",
    "linked = linkage(X, 'single')\n",
    "\n",
    "labelList = range(1, 11)\n",
    "\n",
    "plt.figure(figsize=(10, 7))  \n",
    "dendrogram(linked,  \n",
    "            orientation='top',\n",
    "            labels=labelList,\n",
    "            distance_sort='descending',\n",
    "            show_leaf_counts=True)\n",
    "plt.title(\"Dendogramas de los datos\")\n",
    "plt.show() "
   ]
  },
  {
   "cell_type": "markdown",
   "metadata": {},
   "source": [
    "### Análisis del gráfico\n",
    "\n",
    "El algoritmo comienza encontrando los dos puntos que están más cerca uno del otro sobre la base de la distancia euclidiana. \n",
    "\n",
    "Si se mira el primer gráfico, es posible ver que los puntos 2 y 3 están más cerca el uno del otro, mientras que los puntos 7 y 8 están cerca uno del otro. Por lo tanto, primero se formará un grupo entre estos dos puntos. \n",
    "\n",
    "En el último gráfico, es posible ver que los dendogramas se crearon uniendo los puntos 2 con 3 y 7 con 8. La altura vertical del dendograma muestra las distancias euclidianas entre los puntos. En el último gráfico, se puede ver que la distancia euclidiana entre los puntos 7 y 8 es mayor que la distancia entre los puntos 2 y 3.\n",
    "\n",
    "El siguiente paso es unirse al clúster formado uniendo dos puntos al siguiente clúster más cercano o al punto que a su vez se traduce en otro clúster. En el primer gráfico, el punto 4 es el más cercano al grupo de puntos 2 y 3, por lo tanto, en el último gráfico, el dendrograma se genera uniendo el punto 4 con el dendrograma del punto 2 y 3. Este proceso se mantiene hasta que todos los puntos se unen para formar un solo gran racimo.\n",
    "\n",
    "Una vez que se forma un gran grupo, se selecciona la distancia vertical más larga sin que ninguna línea horizontal pase a través de él y se dibuja una línea horizontal a través de él. El número de líneas verticales por las que pasa esta línea horizontal recién creada es igual al número de grupos.\n",
    "\n",
    "Podemos ver que la distancia vertical más grande sin ninguna línea horizontal que pase a través de ella está representada por una línea azul. Considere una línea roja horizontal que pasa a través de la línea azul. Dado que cruza la línea azul en dos puntos, el número de agrupaciones será 2.\n",
    "\n",
    "En esencia, la línea horizontal es un **umbral**, que define la distancia mínima requerida para ser un grupo separado. Si se traza una línea más abajo, el umbral requerido para ser un nuevo grupo se reducirá y se formarán más grupos."
   ]
  },
  {
   "cell_type": "markdown",
   "metadata": {},
   "source": [
    "## Aplicación del algoritmo\n",
    "\n",
    "El set de datos contiene información de clientes considerando: género, edad, sueldo y puntuación de gastos.\n",
    "\n",
    "El objetivo es segmentar a los clientes en diferentes grupos según sus tendencias de compra.\n",
    "\n",
    "La columna **Spending Score** (puntuación de gasto) indica la frecuencia con la que el cliente gasta dinero en un centro comercial en una escala de 1 a 100, siendo 100 el gasto más alto."
   ]
  },
  {
   "cell_type": "code",
   "execution_count": 1,
   "metadata": {},
   "outputs": [],
   "source": [
    "import pandas as pd\n",
    "import numpy as np\n",
    "import matplotlib.pyplot as plt\n",
    "import seaborn as sb"
   ]
  },
  {
   "cell_type": "code",
   "execution_count": 20,
   "metadata": {},
   "outputs": [
    {
     "data": {
      "text/html": [
       "<div>\n",
       "<style scoped>\n",
       "    .dataframe tbody tr th:only-of-type {\n",
       "        vertical-align: middle;\n",
       "    }\n",
       "\n",
       "    .dataframe tbody tr th {\n",
       "        vertical-align: top;\n",
       "    }\n",
       "\n",
       "    .dataframe thead th {\n",
       "        text-align: right;\n",
       "    }\n",
       "</style>\n",
       "<table border=\"1\" class=\"dataframe\">\n",
       "  <thead>\n",
       "    <tr style=\"text-align: right;\">\n",
       "      <th></th>\n",
       "      <th>CustomerID</th>\n",
       "      <th>Genre</th>\n",
       "      <th>Age</th>\n",
       "      <th>Annual Income (k$)</th>\n",
       "      <th>Spending Score (1-100)</th>\n",
       "    </tr>\n",
       "  </thead>\n",
       "  <tbody>\n",
       "    <tr>\n",
       "      <th>0</th>\n",
       "      <td>1</td>\n",
       "      <td>Male</td>\n",
       "      <td>19</td>\n",
       "      <td>15</td>\n",
       "      <td>39</td>\n",
       "    </tr>\n",
       "    <tr>\n",
       "      <th>1</th>\n",
       "      <td>2</td>\n",
       "      <td>Male</td>\n",
       "      <td>21</td>\n",
       "      <td>15</td>\n",
       "      <td>81</td>\n",
       "    </tr>\n",
       "    <tr>\n",
       "      <th>2</th>\n",
       "      <td>3</td>\n",
       "      <td>Female</td>\n",
       "      <td>20</td>\n",
       "      <td>16</td>\n",
       "      <td>6</td>\n",
       "    </tr>\n",
       "    <tr>\n",
       "      <th>3</th>\n",
       "      <td>4</td>\n",
       "      <td>Female</td>\n",
       "      <td>23</td>\n",
       "      <td>16</td>\n",
       "      <td>77</td>\n",
       "    </tr>\n",
       "    <tr>\n",
       "      <th>4</th>\n",
       "      <td>5</td>\n",
       "      <td>Female</td>\n",
       "      <td>31</td>\n",
       "      <td>17</td>\n",
       "      <td>40</td>\n",
       "    </tr>\n",
       "  </tbody>\n",
       "</table>\n",
       "</div>"
      ],
      "text/plain": [
       "   CustomerID   Genre  Age  Annual Income (k$)  Spending Score (1-100)\n",
       "0           1    Male   19                  15                      39\n",
       "1           2    Male   21                  15                      81\n",
       "2           3  Female   20                  16                       6\n",
       "3           4  Female   23                  16                      77\n",
       "4           5  Female   31                  17                      40"
      ]
     },
     "execution_count": 20,
     "metadata": {},
     "output_type": "execute_result"
    }
   ],
   "source": [
    "data_frame = pd.read_csv(\"3.4.4 hierarchical-clustering-data.csv\")\n",
    "data_frame.head()"
   ]
  },
  {
   "cell_type": "code",
   "execution_count": 21,
   "metadata": {},
   "outputs": [
    {
     "data": {
      "text/plain": [
       "(200, 5)"
      ]
     },
     "execution_count": 21,
     "metadata": {},
     "output_type": "execute_result"
    }
   ],
   "source": [
    "data_frame.shape"
   ]
  },
  {
   "cell_type": "code",
   "execution_count": 23,
   "metadata": {},
   "outputs": [
    {
     "data": {
      "text/html": [
       "<div>\n",
       "<style scoped>\n",
       "    .dataframe tbody tr th:only-of-type {\n",
       "        vertical-align: middle;\n",
       "    }\n",
       "\n",
       "    .dataframe tbody tr th {\n",
       "        vertical-align: top;\n",
       "    }\n",
       "\n",
       "    .dataframe thead th {\n",
       "        text-align: right;\n",
       "    }\n",
       "</style>\n",
       "<table border=\"1\" class=\"dataframe\">\n",
       "  <thead>\n",
       "    <tr style=\"text-align: right;\">\n",
       "      <th></th>\n",
       "      <th>0</th>\n",
       "      <th>1</th>\n",
       "    </tr>\n",
       "  </thead>\n",
       "  <tbody>\n",
       "    <tr>\n",
       "      <th>0</th>\n",
       "      <td>15</td>\n",
       "      <td>39</td>\n",
       "    </tr>\n",
       "    <tr>\n",
       "      <th>1</th>\n",
       "      <td>15</td>\n",
       "      <td>81</td>\n",
       "    </tr>\n",
       "    <tr>\n",
       "      <th>2</th>\n",
       "      <td>16</td>\n",
       "      <td>6</td>\n",
       "    </tr>\n",
       "    <tr>\n",
       "      <th>3</th>\n",
       "      <td>16</td>\n",
       "      <td>77</td>\n",
       "    </tr>\n",
       "    <tr>\n",
       "      <th>4</th>\n",
       "      <td>17</td>\n",
       "      <td>40</td>\n",
       "    </tr>\n",
       "    <tr>\n",
       "      <th>...</th>\n",
       "      <td>...</td>\n",
       "      <td>...</td>\n",
       "    </tr>\n",
       "    <tr>\n",
       "      <th>195</th>\n",
       "      <td>120</td>\n",
       "      <td>79</td>\n",
       "    </tr>\n",
       "    <tr>\n",
       "      <th>196</th>\n",
       "      <td>126</td>\n",
       "      <td>28</td>\n",
       "    </tr>\n",
       "    <tr>\n",
       "      <th>197</th>\n",
       "      <td>126</td>\n",
       "      <td>74</td>\n",
       "    </tr>\n",
       "    <tr>\n",
       "      <th>198</th>\n",
       "      <td>137</td>\n",
       "      <td>18</td>\n",
       "    </tr>\n",
       "    <tr>\n",
       "      <th>199</th>\n",
       "      <td>137</td>\n",
       "      <td>83</td>\n",
       "    </tr>\n",
       "  </tbody>\n",
       "</table>\n",
       "<p>200 rows × 2 columns</p>\n",
       "</div>"
      ],
      "text/plain": [
       "       0   1\n",
       "0     15  39\n",
       "1     15  81\n",
       "2     16   6\n",
       "3     16  77\n",
       "4     17  40\n",
       "..   ...  ..\n",
       "195  120  79\n",
       "196  126  28\n",
       "197  126  74\n",
       "198  137  18\n",
       "199  137  83\n",
       "\n",
       "[200 rows x 2 columns]"
      ]
     },
     "execution_count": 23,
     "metadata": {},
     "output_type": "execute_result"
    }
   ],
   "source": [
    "# Se seleccionan las columnas de interes (sueldo y puntuación de gastos)\n",
    "data_selected = data_frame.iloc[:, 3:5].values \n",
    "pd.DataFrame(data_selected)"
   ]
  },
  {
   "cell_type": "code",
   "execution_count": 24,
   "metadata": {},
   "outputs": [
    {
     "data": {
      "image/png": "[encoded data removed]",
      "text/plain": [
       "<Figure size 720x504 with 1 Axes>"
      ]
     },
     "metadata": {
      "needs_background": "light"
     },
     "output_type": "display_data"
    }
   ],
   "source": [
    "import scipy.cluster.hierarchy as shc\n",
    "\n",
    "plt.figure(figsize=(10, 7))  \n",
    "plt.title(\"Dendogramas de clientes\")  \n",
    "dend = shc.dendrogram(shc.linkage(data_selected, method='ward'))"
   ]
  },
  {
   "cell_type": "code",
   "execution_count": 25,
   "metadata": {},
   "outputs": [
    {
     "data": {
      "text/plain": [
       "array([4, 3, 4, 3, 4, 3, 4, 3, 4, 3, 4, 3, 4, 3, 4, 3, 4, 3, 4, 3, 4, 3,\n",
       "       4, 3, 4, 3, 4, 3, 4, 3, 4, 3, 4, 3, 4, 3, 4, 3, 4, 3, 4, 3, 4, 1,\n",
       "       4, 1, 1, 1, 1, 1, 1, 1, 1, 1, 1, 1, 1, 1, 1, 1, 1, 1, 1, 1, 1, 1,\n",
       "       1, 1, 1, 1, 1, 1, 1, 1, 1, 1, 1, 1, 1, 1, 1, 1, 1, 1, 1, 1, 1, 1,\n",
       "       1, 1, 1, 1, 1, 1, 1, 1, 1, 1, 1, 1, 1, 1, 1, 1, 1, 1, 1, 1, 1, 1,\n",
       "       1, 1, 1, 1, 1, 1, 1, 1, 1, 1, 1, 1, 1, 2, 1, 2, 1, 2, 0, 2, 0, 2,\n",
       "       1, 2, 0, 2, 0, 2, 0, 2, 0, 2, 1, 2, 0, 2, 1, 2, 0, 2, 0, 2, 0, 2,\n",
       "       0, 2, 0, 2, 0, 2, 1, 2, 0, 2, 0, 2, 0, 2, 0, 2, 0, 2, 0, 2, 0, 2,\n",
       "       0, 2, 0, 2, 0, 2, 0, 2, 0, 2, 0, 2, 0, 2, 0, 2, 0, 2, 0, 2, 0, 2,\n",
       "       0, 2])"
      ]
     },
     "execution_count": 25,
     "metadata": {},
     "output_type": "execute_result"
    }
   ],
   "source": [
    "from sklearn.cluster import AgglomerativeClustering\n",
    "\n",
    "cluster = AgglomerativeClustering(n_clusters=5, affinity='euclidean', linkage='ward')  \n",
    "cluster.fit_predict(data_selected)"
   ]
  },
  {
   "cell_type": "code",
   "execution_count": 28,
   "metadata": {},
   "outputs": [
    {
     "data": {
      "image/png": "[encoded data removed]",
      "text/plain": [
       "<Figure size 720x504 with 1 Axes>"
      ]
     },
     "metadata": {
      "needs_background": "light"
     },
     "output_type": "display_data"
    }
   ],
   "source": [
    "plt.figure(figsize=(10, 7))  \n",
    "plt.scatter(data_selected[:,0], data_selected[:,1], c=cluster.labels_, cmap='rainbow')  \n",
    "plt.xlabel(\"Sueldos\")\n",
    "plt.ylabel(\"Puntuación de Gastos\")\n",
    "plt.show()"
   ]
  },
  {
   "cell_type": "markdown",
   "metadata": {},
   "source": [
    "## Análisis del gráfico\n",
    "\n",
    "Es posible ver los puntos de datos en forma de cinco grupos. \n",
    "\n",
    "Los puntos de datos en la parte inferior derecha pertenecen a los clientes con sueldos altos y gastos bajos: clientes que gastan su dinero con cuidado. \n",
    "\n",
    "De forma análoga, los clientes en la parte superior derecha (puntos de datos verdes), son los clientes con sueldos altos y altos gastos. Estos son el tipo de clientes a los que las empresas apuntan. \n",
    "\n",
    "Los clientes de en medio (puntos de datos azules) son los que tienen gastos promedio y sueldos promedio. Es la categoría con mayor número de clientes. Para las empresas puede resultar interesante considerar a estos clientes dado la cantidad que existe."
   ]
  }
 ],
 "metadata": {
  "kernelspec": {
   "display_name": "Python 3",
   "language": "python",
   "name": "python3"
  },
  "language_info": {
   "codemirror_mode": {
    "name": "ipython",
    "version": 3
   },
   "file_extension": ".py",
   "mimetype": "text/x-python",
   "name": "python",
   "nbconvert_exporter": "python",
   "pygments_lexer": "ipython3",
   "version": "3.8.8"
  }
 },
 "nbformat": 4,
 "nbformat_minor": 4
}
