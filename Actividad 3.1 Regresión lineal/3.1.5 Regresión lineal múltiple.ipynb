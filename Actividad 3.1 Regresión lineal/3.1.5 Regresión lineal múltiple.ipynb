{
 "cells": [
  {
   "cell_type": "markdown",
   "metadata": {},
   "source": [
    "# Regresión lineal múltiple\n",
    "\n",
    "Fuente de set de datos: https://www.kaggle.com/shivam2503/diamonds\n",
    "\n",
    "Revise, antes de comenzar, la descripción del conjunto de datos con el cual va a trabajar."
   ]
  },
  {
   "cell_type": "markdown",
   "metadata": {},
   "source": [
    "## Carga de datos"
   ]
  },
  {
   "cell_type": "code",
   "execution_count": null,
   "metadata": {},
   "outputs": [],
   "source": [
    "import pandas as pd\n",
    "data_frame = pd.read_csv(\"3.1.6 diamonds.csv\")\n",
    "data_frame.head()"
   ]
  },
  {
   "cell_type": "markdown",
   "metadata": {},
   "source": [
    "## Exploración inicial\n",
    "\n",
    "+ Conocer la cantidad de observaciones\n",
    "+ Tipos de datos\n",
    "+ Obtención de algunas medidas estadísticas\n",
    "+ Revisar distribución de los datos\n",
    "+ Revisar valores nulos\n",
    "+ Conocer la correlación de variables"
   ]
  },
  {
   "cell_type": "code",
   "execution_count": null,
   "metadata": {},
   "outputs": [],
   "source": [
    "# Cantidad de obsevaciones\n",
    "data_frame.shape"
   ]
  },
  {
   "cell_type": "code",
   "execution_count": null,
   "metadata": {},
   "outputs": [],
   "source": [
    "data_frame.dtypes"
   ]
  },
  {
   "cell_type": "code",
   "execution_count": null,
   "metadata": {},
   "outputs": [],
   "source": [
    "# Se descarta la primera columna porque no tiene valor predictivo\n",
    "data_frame = data_frame.drop([\"Unnamed: 0\"],axis=1)\n",
    "data_frame.head()"
   ]
  },
  {
   "cell_type": "code",
   "execution_count": null,
   "metadata": {},
   "outputs": [],
   "source": [
    "# Medidas estadísticas\n",
    "data_frame.describe()"
   ]
  },
  {
   "cell_type": "code",
   "execution_count": null,
   "metadata": {},
   "outputs": [],
   "source": [
    "# Considerando solo las columnas de tipo object\n",
    "import numpy as np\n",
    "data_frame.describe(include=[object])"
   ]
  },
  {
   "cell_type": "code",
   "execution_count": null,
   "metadata": {},
   "outputs": [],
   "source": [
    "# Valores nulos\n",
    "for feature in data_frame.columns:\n",
    "    print('Total de valores nulos de', feature, '=', data_frame[feature].isna().sum())"
   ]
  },
  {
   "cell_type": "code",
   "execution_count": null,
   "metadata": {},
   "outputs": [],
   "source": [
    "## Correlación de las variables\n",
    "import matplotlib.pyplot as plt\n",
    "import seaborn as sns\n",
    "plt.figure(figsize=(15,15))\n",
    "p=sns.heatmap(data_frame.corr(), annot=True,cmap='RdYlGn',square=True)"
   ]
  },
  {
   "cell_type": "markdown",
   "metadata": {},
   "source": [
    "### Comentarios de gráfico\n",
    "- La columna 'carat' posee la mayor correlación (0.92)\n",
    "- x, y, z tienen una correlación bastante alta con el precio"
   ]
  },
  {
   "cell_type": "markdown",
   "metadata": {},
   "source": [
    "## Análisis de 4 características (carat,x,y,z)"
   ]
  },
  {
   "cell_type": "code",
   "execution_count": null,
   "metadata": {},
   "outputs": [],
   "source": [
    "for col in ['x', 'y', 'z', 'carat']:\n",
    "    fig, ax =plt.subplots(1, 2, figsize=(20, 6))\n",
    "    fig.suptitle(col, fontsize=18)\n",
    "    sns.distplot(data_frame[col], ax=ax[0], kde=False)\n",
    "    data_frame[[col]+['price']].plot.scatter(x=col, y='price', ax=ax[1])\n",
    "    plt.show()"
   ]
  },
  {
   "cell_type": "markdown",
   "metadata": {},
   "source": [
    "### Comentarios\n",
    "\n",
    "De las gráficas anteriores se visualiza que hay obsevaciones que tienen valores 0 en estas características, lo que no tiene mucho sentido porque representan el ancho, alto y profundidad del diamante.\n",
    "\n",
    "Dada la conclusión anterior, se eliminarán estas observaciones"
   ]
  },
  {
   "cell_type": "code",
   "execution_count": null,
   "metadata": {},
   "outputs": [],
   "source": [
    "data_frame = data_frame[(data_frame[['x','y','z']] != 0).all(axis=1)]\n",
    "data_frame.shape"
   ]
  },
  {
   "cell_type": "markdown",
   "metadata": {},
   "source": [
    "Una vez que se han eliminado las observaciones quedan 53.920 observaciones\n",
    "\n",
    "Ahora se vuelven a ver las distribuciones."
   ]
  },
  {
   "cell_type": "code",
   "execution_count": null,
   "metadata": {},
   "outputs": [],
   "source": [
    "# Visualizamos la distribución de las variables\n",
    "columnas = ['x', 'y', 'z', 'carat', 'depth']\n",
    "for col in columnas:\n",
    "    fig, ax =plt.subplots(1, 2, figsize=(20, 6))\n",
    "    fig.suptitle(col, fontsize=18)\n",
    "    sns.distplot(data_frame[col], ax=ax[0], kde=False)\n",
    "    data_frame[[col]+['price']].plot.scatter(x=col, y='price', ax=ax[1])\n",
    "    plt.show()"
   ]
  },
  {
   "cell_type": "markdown",
   "metadata": {},
   "source": [
    "## Tratamiento de variables categóricas\n",
    "\n",
    "Es importante recordar que estas variables no han sido consideradas en el análisis de correlación anterior porque no son numéicas; así es que conveniente considerarlas\n",
    "\n",
    "Primero se van a revisar los valores únicos de cada variable categórica.\n",
    "\n",
    "Luego se van a transformar usando onehot-encoder"
   ]
  },
  {
   "cell_type": "code",
   "execution_count": null,
   "metadata": {},
   "outputs": [],
   "source": [
    "data_frame['cut'].unique()"
   ]
  },
  {
   "cell_type": "code",
   "execution_count": null,
   "metadata": {},
   "outputs": [],
   "source": [
    "data_frame['color'].unique()"
   ]
  },
  {
   "cell_type": "code",
   "execution_count": null,
   "metadata": {},
   "outputs": [],
   "source": [
    "data_frame['clarity'].unique()"
   ]
  },
  {
   "cell_type": "code",
   "execution_count": null,
   "metadata": {},
   "outputs": [],
   "source": [
    "from sklearn.compose import ColumnTransformer\n",
    "from sklearn.preprocessing import OneHotEncoder\n",
    "ct = ColumnTransformer(transformers=[('encoder', OneHotEncoder(), ['cut'])], remainder='passthrough')\n",
    "#X = np.array(ct.fit_transform(data_frame))\n",
    "X = ct.fit_transform(data_frame)\n",
    "pd.DataFrame(X)"
   ]
  },
  {
   "cell_type": "markdown",
   "metadata": {},
   "source": [
    "## Desafío\n",
    "\n",
    "Repita la técnica de transformación con las otras 2 columnas y comente los resultados"
   ]
  },
  {
   "cell_type": "markdown",
   "metadata": {},
   "source": [
    "## Creando, validando y evaluando el modelo"
   ]
  },
  {
   "cell_type": "code",
   "execution_count": null,
   "metadata": {},
   "outputs": [],
   "source": [
    "from sklearn.linear_model import LinearRegression\n",
    "from sklearn.model_selection import train_test_split\n",
    "from sklearn.metrics import mean_squared_error, r2_score\n",
    "\n",
    "# Se separan las variables predictoras y la predecida\n",
    "\n",
    "x = data_frame[['x','y', 'z', 'carat']] # Variables independientes\n",
    "y = data_frame['price'] # Variable dependiente\n",
    "\n",
    "X_train, X_test, y_train, y_test = train_test_split(x, y, \n",
    "                                                    test_size=0.2, random_state=29)\n",
    "# Tipo de modelo\n",
    "modelo = LinearRegression()\n",
    "\n",
    "# Entrenamiento del modelo\n",
    "modelo.fit(X_train, y_train)\n",
    "\n",
    "# Validación del modelo\n",
    "y_pred = modelo.predict(X_test)\n",
    "\n",
    "# Evaluación del modelo\n",
    "print(\"R2 :%.2f\" % r2_score(y_test, y_pred))\n",
    "print(\"MSE: %.2f\" % mean_squared_error(y_pred, y_test))\n",
    "print(\"Score del modelo : %.2f\" % modelo.score(X_train, y_train))"
   ]
  },
  {
   "cell_type": "markdown",
   "metadata": {},
   "source": [
    "## Realizando predicciones"
   ]
  },
  {
   "cell_type": "code",
   "execution_count": null,
   "metadata": {},
   "outputs": [],
   "source": [
    "print(modelo.predict([[4.15, 3.95, 2.25, 0.29]]))\n"
   ]
  },
  {
   "cell_type": "markdown",
   "metadata": {},
   "source": [
    "## Mejoras\n",
    "\n",
    "Ya se generó un modelo de predicción del precio de un diamante considerando su alto, ancho, profundidad y peso del diamante.\n",
    "\n",
    "Sin embargo, estas variables no están normalizadas. El desafío ahora es repetir el ejercicio considerando las variables normalizadas."
   ]
  },
  {
   "cell_type": "code",
   "execution_count": null,
   "metadata": {},
   "outputs": [],
   "source": [
    "from sklearn.preprocessing import StandardScaler\n",
    "sc = StandardScaler()\n",
    "data_selected = data_frame[['x','y', 'z', 'carat']]\n",
    "scaled_data = sc.fit_transform(data_selected)\n",
    "pd.DataFrame(scaled_data).head()"
   ]
  },
  {
   "cell_type": "code",
   "execution_count": null,
   "metadata": {},
   "outputs": [],
   "source": [
    "scaled_data.shape"
   ]
  },
  {
   "cell_type": "code",
   "execution_count": null,
   "metadata": {},
   "outputs": [],
   "source": [
    "X_train, X_test, y_train, y_test = train_test_split(scaled_data, y, \n",
    "                                                    test_size=0.2, random_state=29)\n",
    "# Tipo de modelo\n",
    "modelo_x = LinearRegression()\n",
    "\n",
    "# Entrenamiento del modelo\n",
    "modelo_x.fit(X_train, y_train)\n",
    "\n",
    "# Validación del modelo\n",
    "y_pred = modelo_x.predict(X_test)\n",
    "\n",
    "# Evaluación del modelo\n",
    "print(\"R2 :%.2f\" % r2_score(y_test, y_pred))\n",
    "print(\"MSE: %.2f\" % mean_squared_error( y_test, y_pred))\n",
    "print(\"Score del modelo : %.2f\" % modelo_x.score(X_train, y_train))"
   ]
  },
  {
   "cell_type": "code",
   "execution_count": null,
   "metadata": {},
   "outputs": [],
   "source": [
    "# Se realiza la misma predicción anterior\n",
    "print(modelo.predict([[4.15, 3.95, 2.25, 0.29]]))"
   ]
  },
  {
   "cell_type": "code",
   "execution_count": null,
   "metadata": {},
   "outputs": [],
   "source": [
    "%pylab inline\n",
    "pylab.rcParams['figure.figsize'] = (15, 6)\n",
    "\n",
    "plt.plot(y_pred[:100], label='Predicted')\n",
    "plt.plot(y_test.values[:100], label='Actual')\n",
    "plt.ylabel('Price')\n",
    "\n",
    "plt.legend()\n",
    "plt.show()"
   ]
  }
 ],
 "metadata": {
  "kernelspec": {
   "display_name": "Python 3",
   "language": "python",
   "name": "python3"
  },
  "language_info": {
   "codemirror_mode": {
    "name": "ipython",
    "version": 3
   },
   "file_extension": ".py",
   "mimetype": "text/x-python",
   "name": "python",
   "nbconvert_exporter": "python",
   "pygments_lexer": "ipython3",
   "version": "3.8.8"
  }
 },
 "nbformat": 4,
 "nbformat_minor": 4
}
