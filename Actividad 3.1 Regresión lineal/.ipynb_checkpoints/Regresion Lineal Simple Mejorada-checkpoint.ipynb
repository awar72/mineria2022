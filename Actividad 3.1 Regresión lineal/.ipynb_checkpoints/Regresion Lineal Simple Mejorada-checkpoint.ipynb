{
 "cells": [
  {
   "cell_type": "markdown",
   "id": "20c490d5",
   "metadata": {},
   "source": [
    "# 1 Prediciendo usando un data set precargado desde Scikit-lean"
   ]
  },
  {
   "cell_type": "markdown",
   "id": "6653e124",
   "metadata": {},
   "source": [
    "1.1 Descripción\n",
    "\n",
    "Se usa un set de datos que viene pre cargado en scikit-learn que tiene relación con la diabetes.\n",
    "La base se toma desde: \n",
    "https://scikit-learn.org/stable/auto_examples/linear_model/plot_ols.html#sphx-glr-auto-examples-linear-model-plot-ols-py"
   ]
  },
  {
   "cell_type": "code",
   "execution_count": 1,
   "id": "87255de3",
   "metadata": {},
   "outputs": [],
   "source": [
    "import matplotlib.pyplot as plt\n",
    "import numpy as np\n",
    "import pandas as pd\n",
    "import seaborn as sns\n",
    "from sklearn import datasets, linear_model\n",
    "from sklearn.metrics import mean_squared_error, r2_score"
   ]
  },
  {
   "cell_type": "code",
   "execution_count": 2,
   "id": "cc503683",
   "metadata": {},
   "outputs": [],
   "source": [
    "#diabetes = datasets.load_diabetes(as_frame=True)\n",
    "diabetes = datasets.load_diabetes()\n",
    "diabetes_X, diabetes_y = pd.DataFrame(diabetes.data,columns=diabetes.feature_names),pd.DataFrame(diabetes.target,columns=['target']) "
   ]
  },
  {
   "cell_type": "code",
   "execution_count": null,
   "id": "297417f5",
   "metadata": {},
   "outputs": [],
   "source": [
    "diabetes_X"
   ]
  },
  {
   "cell_type": "code",
   "execution_count": null,
   "id": "12672533",
   "metadata": {},
   "outputs": [],
   "source": [
    "diabetes.feature_names"
   ]
  },
  {
   "cell_type": "code",
   "execution_count": null,
   "id": "1e57718e",
   "metadata": {},
   "outputs": [],
   "source": [
    "# Se muestran los datos Target\n",
    "diabetes_y"
   ]
  },
  {
   "cell_type": "markdown",
   "id": "0ee66a85",
   "metadata": {},
   "source": [
    "1.1.1 Comentarios\n",
    "Del resulatdo anterior es posible apreciar que se tienen 442 observaciones con 10 características y una variable independiente (y)\n",
    "y = a+b1x1 +b2x2 +...+b10x10\n",
    "donde x1 representa a cada una de las características que se incluyen en el set de datos.\n",
    "Sin embargo, para simplificar el problema solo se va a trabajar con una de las características, dejando la ecuación de la forma:\n",
    "y = a + b1x1\n",
    "De esta forma se tiene una variable indepediente (que es la que será predecida) y una variable\n",
    "independiente (predictora)"
   ]
  },
  {
   "cell_type": "code",
   "execution_count": null,
   "id": "fafe9eff",
   "metadata": {},
   "outputs": [],
   "source": [
    "result = pd.concat([pd.DataFrame(diabetes_X),pd.DataFrame(diabetes_y)], axis=1)"
   ]
  },
  {
   "cell_type": "code",
   "execution_count": null,
   "id": "05e90542",
   "metadata": {},
   "outputs": [],
   "source": [
    "result"
   ]
  },
  {
   "cell_type": "code",
   "execution_count": null,
   "id": "65bbfecc",
   "metadata": {},
   "outputs": [],
   "source": [
    "plt.figure(figsize=(15,15))\n",
    "p=sns.heatmap(result.corr(), annot=True,cmap='RdYlGn',square=True)"
   ]
  },
  {
   "cell_type": "markdown",
   "id": "a233b57f",
   "metadata": {},
   "source": [
    "Seleccionamos la variable bmi porque tiene la mayor correlación con la variable Target y reservmos las últimas 20 observaciones para validar el modelo"
   ]
  },
  {
   "cell_type": "code",
   "execution_count": null,
   "id": "b916d23a",
   "metadata": {},
   "outputs": [],
   "source": [
    "diabetes_X_train = diabetes_X['bmi'].iloc[:-20]\n",
    "diabetes_X_train"
   ]
  },
  {
   "cell_type": "code",
   "execution_count": null,
   "id": "64ab4382",
   "metadata": {},
   "outputs": [],
   "source": [
    "diabetes_X_test = diabetes_X['bmi'].iloc[-20:]\n",
    "diabetes_X_test"
   ]
  },
  {
   "cell_type": "code",
   "execution_count": null,
   "id": "df3b743d",
   "metadata": {},
   "outputs": [],
   "source": [
    "diabetes_y_train = diabetes_y[:-20]\n",
    "diabetes_y_train"
   ]
  },
  {
   "cell_type": "code",
   "execution_count": null,
   "id": "b66b6c4e",
   "metadata": {},
   "outputs": [],
   "source": [
    "diabetes_y_test = diabetes_y[-20:]\n",
    "diabetes_y_test"
   ]
  },
  {
   "cell_type": "code",
   "execution_count": null,
   "id": "18262d85",
   "metadata": {},
   "outputs": [],
   "source": [
    "diabetes_X_train= pd.DataFrame(diabetes_X_train)    "
   ]
  },
  {
   "cell_type": "code",
   "execution_count": null,
   "id": "c292240e",
   "metadata": {},
   "outputs": [],
   "source": [
    "diabetes_X_test= pd.DataFrame(diabetes_X_test)    "
   ]
  },
  {
   "cell_type": "code",
   "execution_count": null,
   "id": "0524ff61",
   "metadata": {},
   "outputs": [],
   "source": [
    "diabetes_X_train.shape"
   ]
  },
  {
   "cell_type": "code",
   "execution_count": null,
   "id": "40e3662e",
   "metadata": {},
   "outputs": [],
   "source": [
    "diabetes_X_test.shape"
   ]
  },
  {
   "cell_type": "markdown",
   "id": "06843cd3",
   "metadata": {},
   "source": [
    "1.1.2 Comentarios\n",
    "En el código anterior se selecciona una de las características y se divide el set de datos en 2 subconjuntos: entrenamiento y validación.\n",
    "Por ahora esta división se realiza de manera fija, más adelante se verá que esto se debe hacer de forma aleatoria.\n",
    "La misma división se hace con el conjunto de datos de la variable predecible"
   ]
  },
  {
   "cell_type": "code",
   "execution_count": null,
   "id": "95795eeb",
   "metadata": {},
   "outputs": [],
   "source": [
    "# Create linear regression object\n",
    "modelo = linear_model.LinearRegression() # Train the model using the training sets\n",
    "modelo.fit(diabetes_X_train, diabetes_y_train) # Make predictions using the testing set\n",
    "diabetes_y_pred = modelo.predict(diabetes_X_test)\n",
    "# The coefficients\n",
    "print('Coeficientes: \\n b1=', modelo.coef_, 'a=', modelo.intercept_) \n",
    "# The mean squared error\n",
    "print('Mean squared error (MSE): %.2f'\n",
    "     % mean_squared_error(diabetes_y_test, diabetes_y_pred)) \n",
    "# The coefficient of determination: 1 is perfect prediction \n",
    "print('Coeficiente de determinación: %.2f'\n",
    "     % r2_score(diabetes_y_test, diabetes_y_pred)) \n",
    "print('Score del modelo: %.2f' \n",
    "      % modelo.score(diabetes_X_train, diabetes_y_train))"
   ]
  },
  {
   "cell_type": "code",
   "execution_count": null,
   "id": "da9c357a",
   "metadata": {},
   "outputs": [],
   "source": [
    "# Gráficas de la ecuación de regresión\n",
    "plt.scatter(diabetes_X_test, diabetes_y_test,  color='black')\n",
    "plt.plot(diabetes_X_test, diabetes_y_pred, color='blue', linewidth=3)\n",
    "\n",
    "#plt.xticks(())\n",
    "#plt.yticks(())\n",
    "\n",
    "plt.title(\"Ecuación de regresión\")\n",
    "\n",
    "plt.xlabel(\"X\")\n",
    "plt.ylabel(\"y\")\n",
    "\n",
    "plt.show()"
   ]
  },
  {
   "cell_type": "markdown",
   "id": "5a197d85",
   "metadata": {},
   "source": [
    "1.1.3 Comentarios\n",
    "Observando el gráfico anterior es posible ver que hay varios puntos que se alejan un poco de la ecuación de la recta de regresión; eso explica el coeficiente de determinación que se obtuvo (R2).\n",
    "El valor de R2 de un 0.47 indica que hay un 47% de confiabilidad en la predicción.\n",
    "Para ver el ejercicio completo se va a realizar una predicción y para ellos se va a tomar un valor\n",
    "del mismo set de datos original; en este caso será la primera obsevación"
   ]
  },
  {
   "cell_type": "code",
   "execution_count": null,
   "id": "8adfe8de",
   "metadata": {},
   "outputs": [],
   "source": [
    "print(\"Predicción:\", modelo.predict([[0.061696]]))\n",
    "print(\"Valor real:\", diabetes_y['target'][0])"
   ]
  },
  {
   "cell_type": "markdown",
   "id": "c1af043f",
   "metadata": {},
   "source": [
    "1.1.4 Para seguir avanzando\n",
    "Revisar la documentación: https://scikit-learn.org/stable/modules/model_evaluation.html"
   ]
  },
  {
   "cell_type": "markdown",
   "id": "0fefd47e",
   "metadata": {},
   "source": [
    "1.2 Mejoras\n",
    "Como se mencionó es importante que el modelo cuente con 2 conjuntos de datos: entrenamiento y validación. En el ejercicio de acá se dividieron arbitrariamente los conjuntos.\n",
    "Ahora se va a aleatorizar la selección y se volverá a entrenar y evaluar el modelo"
   ]
  },
  {
   "cell_type": "code",
   "execution_count": null,
   "id": "51e73024",
   "metadata": {},
   "outputs": [],
   "source": [
    "type(diabetes_X['bmi'])"
   ]
  },
  {
   "cell_type": "code",
   "execution_count": null,
   "id": "a830e5d2",
   "metadata": {},
   "outputs": [],
   "source": [
    "from sklearn.model_selection import train_test_split\n",
    "X_train, X_test, y_train, y_test = train_test_split(pd.DataFrame(diabetes_X['bmi']), pd.DataFrame(diabetes_y['target']), test_size=0.2, random_state=29)\n",
    "# Crea el modelo\n",
    "modelo_x = linear_model.LinearRegression() # Entrena el modelo\n",
    "modelo_x.fit(X_train, y_train)\n",
    "# Valida el modelo\n",
    "y_pred = modelo_x.predict(X_test)\n",
    "# Evaluación del modelo\n",
    "print('Mean squared error (MSE): %.2f'\n",
    "     % mean_squared_error(y_test, y_pred))\n",
    "# The coefficient of determination: 1 is perfect prediction\n",
    "print('Coeficiente de determinación: %.2f' \n",
    "      % r2_score(y_test, y_pred))\n",
    "print('Score del modelo: %.2f' \n",
    "      % modelo_x.score(X_train, y_train))"
   ]
  },
  {
   "cell_type": "code",
   "execution_count": null,
   "id": "242562b9",
   "metadata": {},
   "outputs": [],
   "source": [
    "# Gráficas de la ecuación de regresión\n",
    "plt.scatter(X_test, y_test,  color='green')\n",
    "plt.plot(X_test, y_pred, color='red', linewidth=3)\n",
    "\n",
    "plt.xticks(())\n",
    "plt.yticks(())\n",
    "\n",
    "plt.title(\"Ecuación de regresión\")\n",
    "\n",
    "plt.xlabel(\"X\")\n",
    "plt.ylabel(\"y\")\n",
    "\n",
    "plt.show()"
   ]
  },
  {
   "cell_type": "code",
   "execution_count": null,
   "id": "cab526c1",
   "metadata": {},
   "outputs": [],
   "source": [
    "# Gráficas de la ecuación de regresión\n",
    "plt.scatter(diabetes_X_test, diabetes_y_test,  color='black')\n",
    "plt.plot(diabetes_X_test, diabetes_y_pred, color='blue', linewidth=3)\n",
    "plt.scatter(X_test, y_test,  color='green')\n",
    "plt.plot(X_test, y_pred, color='red', linewidth=3)\n",
    "\n",
    "plt.xticks(())\n",
    "plt.yticks(())\n",
    "\n",
    "plt.title(\"Ecuaciones de regresión\")\n",
    "\n",
    "plt.xlabel(\"X\")\n",
    "plt.ylabel(\"y\")\n",
    "\n",
    "plt.show()"
   ]
  }
 ],
 "metadata": {
  "kernelspec": {
   "display_name": "Python 3",
   "language": "python",
   "name": "python3"
  },
  "language_info": {
   "codemirror_mode": {
    "name": "ipython",
    "version": 3
   },
   "file_extension": ".py",
   "mimetype": "text/x-python",
   "name": "python",
   "nbconvert_exporter": "python",
   "pygments_lexer": "ipython3",
   "version": "3.8.8"
  }
 },
 "nbformat": 4,
 "nbformat_minor": 5
}
